{
  "nbformat": 4,
  "nbformat_minor": 0,
  "metadata": {
    "colab": {
      "provenance": []
    },
    "kernelspec": {
      "name": "python3",
      "display_name": "Python 3"
    },
    "language_info": {
      "name": "python"
    }
  },
  "cells": [
    {
      "cell_type": "markdown",
      "source": [
        "# Dataset Loading and Preparation\n"
      ],
      "metadata": {
        "id": "EuCZeN_m-HZR"
      }
    },
    {
      "cell_type": "code",
      "execution_count": 4,
      "metadata": {
        "id": "UlztG7LS9eB4"
      },
      "outputs": [],
      "source": [
        "import pandas as pd\n",
        "from sklearn.model_selection import train_test_split\n",
        "\n",
        "# Load the dataset\n",
        "df = pd.read_csv('/content/selected_features.csv')\n",
        "\n",
        "# Define features (X) and target variable (y)\n",
        "X = df.drop(columns=['Close'])  # Drop the target column\n",
        "y = df['Close']  # Target variable\n",
        "\n",
        "# Split data into training and testing sets (80-20)\n",
        "X_train, X_test, y_train, y_test = train_test_split(X, y, test_size=0.2, random_state=42)\n",
        "\n",
        "# Scale the features for LSTM and ANN\n",
        "from sklearn.preprocessing import MinMaxScaler\n",
        "scaler = MinMaxScaler()\n",
        "X_scaled = scaler.fit_transform(X)\n",
        "y_scaled = scaler.fit_transform(y.values.reshape(-1, 1))\n"
      ]
    },
    {
      "cell_type": "markdown",
      "source": [
        "# 1. Linear Regression\n"
      ],
      "metadata": {
        "id": "z6N9dgZP-U2H"
      }
    },
    {
      "cell_type": "code",
      "source": [
        "from sklearn.linear_model import LinearRegression\n",
        "from sklearn.metrics import mean_absolute_error, mean_squared_error\n",
        "from sklearn.model_selection import cross_val_score, KFold\n",
        "\n",
        "# Initialize Linear Regression\n",
        "lr_model = LinearRegression()\n",
        "\n",
        "# Perform 5-fold cross-validation\n",
        "kf = KFold(n_splits=5, shuffle=True, random_state=42)\n",
        "lr_scores_mse = -cross_val_score(lr_model, X, y, scoring='neg_mean_squared_error', cv=kf)\n",
        "lr_scores_mae = -cross_val_score(lr_model, X, y, scoring='neg_mean_absolute_error', cv=kf)\n",
        "\n",
        "# Metrics\n",
        "lr_mse = lr_scores_mse.mean()\n",
        "lr_rmse = lr_mse ** 0.5\n",
        "lr_mae = lr_scores_mae.mean()\n",
        "lr_std = lr_scores_mse.std()\n",
        "print(f\"Linear Regression: MSE={lr_mse:.4f}, MAE={lr_mae:.4f}, RMSE={lr_rmse:.4f}, Std Dev={lr_std:.4f}\")\n"
      ],
      "metadata": {
        "colab": {
          "base_uri": "https://localhost:8080/"
        },
        "id": "NRFLt15T-ZPB",
        "outputId": "fe535170-2f5d-4bf4-c7f9-e3ac1d650a3f"
      },
      "execution_count": 5,
      "outputs": [
        {
          "output_type": "stream",
          "name": "stdout",
          "text": [
            "Linear Regression: MSE=0.0000, MAE=0.0000, RMSE=0.0000, Std Dev=0.0000\n"
          ]
        }
      ]
    },
    {
      "cell_type": "markdown",
      "source": [
        "# 2. ARIMA"
      ],
      "metadata": {
        "id": "tNhJOaCg_YGz"
      }
    },
    {
      "cell_type": "code",
      "source": [
        "from statsmodels.tsa.arima.model import ARIMA\n",
        "from sklearn.metrics import mean_squared_error, mean_absolute_error\n",
        "import numpy as np\n",
        "\n",
        "# Fit ARIMA model\n",
        "arima_model = ARIMA(y, order=(5, 1, 0))\n",
        "arima_fitted = arima_model.fit()\n",
        "\n",
        "# Predictions\n",
        "y_pred_arima = arima_fitted.predict(start=1, end=len(y))\n",
        "arima_mse = mean_squared_error(y[1:], y_pred_arima[1:])\n",
        "arima_mae = mean_absolute_error(y[1:], y_pred_arima[1:])\n",
        "arima_rmse = arima_mse ** 0.5\n",
        "arima_std = np.std(y_pred_arima - y[1:])\n",
        "\n",
        "print(f\"ARIMA: MSE={arima_mse:.4f}, MAE={arima_mae:.4f}, RMSE={arima_rmse:.4f}, Std Dev={arima_std:.4f}\")\n"
      ],
      "metadata": {
        "colab": {
          "base_uri": "https://localhost:8080/"
        },
        "id": "aT4gVQ4t_YUq",
        "outputId": "8cb7cfb1-d17f-4ec6-ceca-129faedcbe6e"
      },
      "execution_count": 10,
      "outputs": [
        {
          "output_type": "stream",
          "name": "stdout",
          "text": [
            "ARIMA: MSE=0.2057, MAE=0.1885, RMSE=0.4535, Std Dev=4.4443\n"
          ]
        }
      ]
    },
    {
      "cell_type": "markdown",
      "source": [
        "# 3. Support Vector Machines (SVM)"
      ],
      "metadata": {
        "id": "iS7BJT15AnEa"
      }
    },
    {
      "cell_type": "code",
      "source": [
        "from sklearn.svm import SVR\n",
        "\n",
        "# Initialize SVM model\n",
        "svm_model = SVR(kernel='rbf', C=1.0, epsilon=0.1)\n",
        "\n",
        "# Perform 5-fold cross-validation\n",
        "svm_scores_mse = -cross_val_score(svm_model, X, y, scoring='neg_mean_squared_error', cv=kf)\n",
        "svm_scores_mae = -cross_val_score(svm_model, X, y, scoring='neg_mean_absolute_error', cv=kf)\n",
        "\n",
        "# Metrics\n",
        "svm_mse = svm_scores_mse.mean()\n",
        "svm_rmse = svm_mse ** 0.5\n",
        "svm_mae = svm_scores_mae.mean()\n",
        "svm_std = svm_scores_mse.std()\n",
        "print(f\"SVM: MSE={svm_mse:.4f}, MAE={svm_mae:.4f}, RMSE={svm_rmse:.4f}, Std Dev={svm_std:.4f}\")\n"
      ],
      "metadata": {
        "colab": {
          "base_uri": "https://localhost:8080/"
        },
        "id": "rSc82wjdAtXH",
        "outputId": "02e2e212-c8b4-49e1-9c48-ad81f64c63ac"
      },
      "execution_count": 11,
      "outputs": [
        {
          "output_type": "stream",
          "name": "stdout",
          "text": [
            "SVM: MSE=509.0369, MAE=6.0592, RMSE=22.5618, Std Dev=120.5321\n"
          ]
        }
      ]
    },
    {
      "cell_type": "markdown",
      "source": [
        "# 4. Random Forest"
      ],
      "metadata": {
        "id": "3IgheRLeA64W"
      }
    },
    {
      "cell_type": "code",
      "source": [
        "from sklearn.ensemble import RandomForestRegressor\n",
        "\n",
        "# Initialize Random Forest model\n",
        "rf_model = RandomForestRegressor(n_estimators=100, random_state=42)\n",
        "\n",
        "# Perform 5-fold cross-validation\n",
        "rf_scores_mse = -cross_val_score(rf_model, X, y, scoring='neg_mean_squared_error', cv=kf)\n",
        "rf_scores_mae = -cross_val_score(rf_model, X, y, scoring='neg_mean_absolute_error', cv=kf)\n",
        "\n",
        "# Metrics\n",
        "rf_mse = rf_scores_mse.mean()\n",
        "rf_rmse = rf_mse ** 0.5\n",
        "rf_mae = rf_scores_mae.mean()\n",
        "rf_std = rf_scores_mse.std()\n",
        "print(f\"Random Forest: MSE={rf_mse:.4f}, MAE={rf_mae:.4f}, RMSE={rf_rmse:.4f}, Std Dev={rf_std:.4f}\")\n"
      ],
      "metadata": {
        "colab": {
          "base_uri": "https://localhost:8080/"
        },
        "id": "mOk8QMlhA7Hf",
        "outputId": "ca2a4611-1180-47a3-ef0b-711f8e9edb9a"
      },
      "execution_count": 12,
      "outputs": [
        {
          "output_type": "stream",
          "name": "stdout",
          "text": [
            "Random Forest: MSE=0.3820, MAE=0.1696, RMSE=0.6181, Std Dev=0.1145\n"
          ]
        }
      ]
    },
    {
      "cell_type": "markdown",
      "source": [
        "# 5. Long Short-Term Memory (LSTM)\n"
      ],
      "metadata": {
        "id": "Wwbz05D4BjC-"
      }
    },
    {
      "cell_type": "code",
      "source": [
        "from sklearn.model_selection import KFold\n",
        "from tensorflow.keras.models import Sequential\n",
        "from tensorflow.keras.layers import LSTM, Dense\n",
        "from sklearn.metrics import mean_squared_error, mean_absolute_error\n",
        "import numpy as np\n",
        "\n",
        "# Initialize K-Fold Cross-Validation\n",
        "kf = KFold(n_splits=5, shuffle=True, random_state=42)\n",
        "\n",
        "lstm_mse_scores = []\n",
        "lstm_mae_scores = []\n",
        "\n",
        "# Perform cross-validation\n",
        "for train_index, test_index in kf.split(X_scaled):\n",
        "    X_train, X_test = X_scaled[train_index], X_scaled[test_index]\n",
        "    y_train, y_test = y_scaled[train_index], y_scaled[test_index]\n",
        "\n",
        "    # Reshape for LSTM\n",
        "    X_train = X_train.reshape(X_train.shape[0], 1, X_train.shape[1])\n",
        "    X_test = X_test.reshape(X_test.shape[0], 1, X_test.shape[1])\n",
        "\n",
        "    # Build LSTM model\n",
        "    lstm_model = Sequential([\n",
        "        LSTM(50, activation='relu', input_shape=(X_train.shape[1], X_train.shape[2])),\n",
        "        Dense(1)\n",
        "    ])\n",
        "    lstm_model.compile(optimizer='adam', loss='mse')\n",
        "\n",
        "    # Train the model\n",
        "    lstm_model.fit(X_train, y_train, epochs=10, batch_size=32, verbose=0)\n",
        "\n",
        "    # Evaluate the model\n",
        "    y_pred_lstm = lstm_model.predict(X_test)\n",
        "    mse = mean_squared_error(y_test, y_pred_lstm)\n",
        "    mae = mean_absolute_error(y_test, y_pred_lstm)\n",
        "    lstm_mse_scores.append(mse)\n",
        "    lstm_mae_scores.append(mae)\n",
        "\n",
        "# Metrics\n",
        "lstm_mse = np.mean(lstm_mse_scores)\n",
        "lstm_mae = np.mean(lstm_mae_scores)\n",
        "lstm_std = np.std(lstm_mse_scores)\n",
        "lstm_rmse = np.sqrt(lstm_mse)\n",
        "\n",
        "print(f\"LSTM: MSE={lstm_mse:.4f}, MAE={lstm_mae:.4f}, RMSE={lstm_rmse:.4f}, Std Dev={lstm_std:.4f}\")\n"
      ],
      "metadata": {
        "colab": {
          "base_uri": "https://localhost:8080/"
        },
        "id": "WDsfKOV9BsC8",
        "outputId": "fc20ef8e-163f-4e1f-e3f1-be8a37a2a62f"
      },
      "execution_count": 13,
      "outputs": [
        {
          "output_type": "stream",
          "name": "stderr",
          "text": [
            "/usr/local/lib/python3.10/dist-packages/keras/src/layers/rnn/rnn.py:204: UserWarning: Do not pass an `input_shape`/`input_dim` argument to a layer. When using Sequential models, prefer using an `Input(shape)` object as the first layer in the model instead.\n",
            "  super().__init__(**kwargs)\n"
          ]
        },
        {
          "output_type": "stream",
          "name": "stdout",
          "text": [
            "\u001b[1m29/29\u001b[0m \u001b[32m━━━━━━━━━━━━━━━━━━━━\u001b[0m\u001b[37m\u001b[0m \u001b[1m0s\u001b[0m 6ms/step\n"
          ]
        },
        {
          "output_type": "stream",
          "name": "stderr",
          "text": [
            "/usr/local/lib/python3.10/dist-packages/keras/src/layers/rnn/rnn.py:204: UserWarning: Do not pass an `input_shape`/`input_dim` argument to a layer. When using Sequential models, prefer using an `Input(shape)` object as the first layer in the model instead.\n",
            "  super().__init__(**kwargs)\n"
          ]
        },
        {
          "output_type": "stream",
          "name": "stdout",
          "text": [
            "\u001b[1m29/29\u001b[0m \u001b[32m━━━━━━━━━━━━━━━━━━━━\u001b[0m\u001b[37m\u001b[0m \u001b[1m0s\u001b[0m 6ms/step\n"
          ]
        },
        {
          "output_type": "stream",
          "name": "stderr",
          "text": [
            "/usr/local/lib/python3.10/dist-packages/keras/src/layers/rnn/rnn.py:204: UserWarning: Do not pass an `input_shape`/`input_dim` argument to a layer. When using Sequential models, prefer using an `Input(shape)` object as the first layer in the model instead.\n",
            "  super().__init__(**kwargs)\n"
          ]
        },
        {
          "output_type": "stream",
          "name": "stdout",
          "text": [
            "\u001b[1m29/29\u001b[0m \u001b[32m━━━━━━━━━━━━━━━━━━━━\u001b[0m\u001b[37m\u001b[0m \u001b[1m0s\u001b[0m 7ms/step\n"
          ]
        },
        {
          "output_type": "stream",
          "name": "stderr",
          "text": [
            "/usr/local/lib/python3.10/dist-packages/keras/src/layers/rnn/rnn.py:204: UserWarning: Do not pass an `input_shape`/`input_dim` argument to a layer. When using Sequential models, prefer using an `Input(shape)` object as the first layer in the model instead.\n",
            "  super().__init__(**kwargs)\n"
          ]
        },
        {
          "output_type": "stream",
          "name": "stdout",
          "text": [
            "\u001b[1m29/29\u001b[0m \u001b[32m━━━━━━━━━━━━━━━━━━━━\u001b[0m\u001b[37m\u001b[0m \u001b[1m0s\u001b[0m 9ms/step\n"
          ]
        },
        {
          "output_type": "stream",
          "name": "stderr",
          "text": [
            "/usr/local/lib/python3.10/dist-packages/keras/src/layers/rnn/rnn.py:204: UserWarning: Do not pass an `input_shape`/`input_dim` argument to a layer. When using Sequential models, prefer using an `Input(shape)` object as the first layer in the model instead.\n",
            "  super().__init__(**kwargs)\n"
          ]
        },
        {
          "output_type": "stream",
          "name": "stdout",
          "text": [
            "\u001b[1m29/29\u001b[0m \u001b[32m━━━━━━━━━━━━━━━━━━━━\u001b[0m\u001b[37m\u001b[0m \u001b[1m0s\u001b[0m 7ms/step\n",
            "LSTM: MSE=0.0000, MAE=0.0017, RMSE=0.0037, Std Dev=0.0000\n"
          ]
        }
      ]
    },
    {
      "cell_type": "markdown",
      "source": [
        "# 6. Artificial Neural Networks (ANN)"
      ],
      "metadata": {
        "id": "lfUGBA-uBTrv"
      }
    },
    {
      "cell_type": "code",
      "source": [
        "import tensorflow as tf\n",
        "import numpy as np\n",
        "from sklearn.metrics import mean_squared_error, mean_absolute_error\n",
        "from tensorflow.keras.models import Sequential\n",
        "from tensorflow.keras.layers import Dense\n",
        "\n",
        "# Check and print the shape of the data\n",
        "print(f\"X_train shape before reshape: {X_train.shape}\")\n",
        "print(f\"X_test shape before reshape: {X_test.shape}\")\n",
        "\n",
        "# Reshape only if needed\n",
        "if len(X_train.shape) == 3:\n",
        "    X_train = tf.reshape(X_train, (X_train.shape[0], X_train.shape[-1]))\n",
        "    X_test = tf.reshape(X_test, (X_test.shape[0], X_test.shape[-1]))\n",
        "\n",
        "# Verify shapes after reshaping\n",
        "print(f\"X_train shape after reshape: {X_train.shape}\")\n",
        "print(f\"X_test shape after reshape: {X_test.shape}\")\n",
        "\n",
        "# Build ANN model\n",
        "ann_model = Sequential([\n",
        "    Dense(64, activation='relu', input_shape=(X_train.shape[1],)),  # Input layer\n",
        "    Dense(32, activation='relu'),\n",
        "    Dense(1)  # Output layer\n",
        "])\n",
        "\n",
        "# Compile the model\n",
        "ann_model.compile(optimizer='adam', loss='mse')\n",
        "\n",
        "# Train the model\n",
        "ann_model.fit(X_train, y_train, epochs=10, batch_size=32, verbose=1)\n",
        "\n",
        "# Predictions\n",
        "y_pred_ann = ann_model.predict(X_test)\n",
        "\n",
        "# Metrics\n",
        "ann_mse = mean_squared_error(y_test, y_pred_ann)\n",
        "ann_mae = mean_absolute_error(y_test, y_pred_ann)\n",
        "ann_rmse = ann_mse ** 0.5\n",
        "ann_std = np.std(y_pred_ann)  # Calculate standard deviation of predictions\n",
        "\n",
        "# Print metrics\n",
        "print(f\"ANN: MSE={ann_mse:.4f}, RMSE={ann_rmse:.4f}, MAE={ann_mae:.4f}, Std Dev={ann_std:.4f}\")\n"
      ],
      "metadata": {
        "colab": {
          "base_uri": "https://localhost:8080/"
        },
        "id": "N6SdPmn3BT_G",
        "outputId": "33cb2cf7-9256-436c-ffc1-9512f5839198"
      },
      "execution_count": 14,
      "outputs": [
        {
          "output_type": "stream",
          "name": "stdout",
          "text": [
            "X_train shape before reshape: (3668, 1, 10)\n",
            "X_test shape before reshape: (916, 1, 10)\n",
            "X_train shape after reshape: (3668, 10)\n",
            "X_test shape after reshape: (916, 10)\n",
            "Epoch 1/10\n"
          ]
        },
        {
          "output_type": "stream",
          "name": "stderr",
          "text": [
            "/usr/local/lib/python3.10/dist-packages/keras/src/layers/core/dense.py:87: UserWarning: Do not pass an `input_shape`/`input_dim` argument to a layer. When using Sequential models, prefer using an `Input(shape)` object as the first layer in the model instead.\n",
            "  super().__init__(activity_regularizer=activity_regularizer, **kwargs)\n"
          ]
        },
        {
          "output_type": "stream",
          "name": "stdout",
          "text": [
            "\u001b[1m115/115\u001b[0m \u001b[32m━━━━━━━━━━━━━━━━━━━━\u001b[0m\u001b[37m\u001b[0m \u001b[1m1s\u001b[0m 2ms/step - loss: 0.0491\n",
            "Epoch 2/10\n",
            "\u001b[1m115/115\u001b[0m \u001b[32m━━━━━━━━━━━━━━━━━━━━\u001b[0m\u001b[37m\u001b[0m \u001b[1m0s\u001b[0m 2ms/step - loss: 1.4192e-05\n",
            "Epoch 3/10\n",
            "\u001b[1m115/115\u001b[0m \u001b[32m━━━━━━━━━━━━━━━━━━━━\u001b[0m\u001b[37m\u001b[0m \u001b[1m0s\u001b[0m 2ms/step - loss: 1.1154e-05\n",
            "Epoch 4/10\n",
            "\u001b[1m115/115\u001b[0m \u001b[32m━━━━━━━━━━━━━━━━━━━━\u001b[0m\u001b[37m\u001b[0m \u001b[1m0s\u001b[0m 2ms/step - loss: 1.1172e-05\n",
            "Epoch 5/10\n",
            "\u001b[1m115/115\u001b[0m \u001b[32m━━━━━━━━━━━━━━━━━━━━\u001b[0m\u001b[37m\u001b[0m \u001b[1m0s\u001b[0m 2ms/step - loss: 9.2007e-06\n",
            "Epoch 6/10\n",
            "\u001b[1m115/115\u001b[0m \u001b[32m━━━━━━━━━━━━━━━━━━━━\u001b[0m\u001b[37m\u001b[0m \u001b[1m0s\u001b[0m 2ms/step - loss: 9.5690e-06\n",
            "Epoch 7/10\n",
            "\u001b[1m115/115\u001b[0m \u001b[32m━━━━━━━━━━━━━━━━━━━━\u001b[0m\u001b[37m\u001b[0m \u001b[1m0s\u001b[0m 2ms/step - loss: 8.7746e-06\n",
            "Epoch 8/10\n",
            "\u001b[1m115/115\u001b[0m \u001b[32m━━━━━━━━━━━━━━━━━━━━\u001b[0m\u001b[37m\u001b[0m \u001b[1m0s\u001b[0m 3ms/step - loss: 8.1968e-06\n",
            "Epoch 9/10\n",
            "\u001b[1m115/115\u001b[0m \u001b[32m━━━━━━━━━━━━━━━━━━━━\u001b[0m\u001b[37m\u001b[0m \u001b[1m0s\u001b[0m 3ms/step - loss: 6.3120e-06\n",
            "Epoch 10/10\n",
            "\u001b[1m115/115\u001b[0m \u001b[32m━━━━━━━━━━━━━━━━━━━━\u001b[0m\u001b[37m\u001b[0m \u001b[1m1s\u001b[0m 4ms/step - loss: 7.2473e-06\n",
            "\u001b[1m29/29\u001b[0m \u001b[32m━━━━━━━━━━━━━━━━━━━━\u001b[0m\u001b[37m\u001b[0m \u001b[1m0s\u001b[0m 4ms/step\n",
            "ANN: MSE=0.0000, RMSE=0.0023, MAE=0.0013, Std Dev=0.2568\n"
          ]
        }
      ]
    },
    {
      "cell_type": "markdown",
      "source": [
        "# Hyperparameter Tuning"
      ],
      "metadata": {
        "id": "WhpETg6sdEOJ"
      }
    },
    {
      "cell_type": "markdown",
      "source": [
        "**LSTM Hyperparameter Tuning**"
      ],
      "metadata": {
        "id": "GgwIQvU4Cff3"
      }
    },
    {
      "cell_type": "code",
      "source": [
        "import numpy as np\n",
        "from sklearn.preprocessing import MinMaxScaler\n",
        "from sklearn.model_selection import train_test_split, KFold\n",
        "from tensorflow.keras.models import Sequential\n",
        "from tensorflow.keras.layers import LSTM, Dense\n",
        "from tensorflow.keras.optimizers import Adam\n",
        "from sklearn.metrics import mean_squared_error, mean_absolute_error\n",
        "\n",
        "# Split and scale data\n",
        "scaler = MinMaxScaler()\n",
        "X_scaled = scaler.fit_transform(X)  # Scale features\n",
        "y_scaled = scaler.fit_transform(y.values.reshape(-1, 1))  # Scale target\n",
        "\n",
        "X_train, X_test, y_train, y_test = train_test_split(X_scaled, y_scaled, test_size=0.2, random_state=42)\n",
        "\n",
        "# Reshape data for LSTM (adding a third dimension)\n",
        "X_train_lstm = X_train.reshape((X_train.shape[0], 1, X_train.shape[1]))\n",
        "X_test_lstm = X_test.reshape((X_test.shape[0], 1, X_test.shape[1]))\n",
        "\n",
        "# Define hyperparameter combinations\n",
        "hyperparams = [\n",
        "    {\"units\": 50, \"learning_rate\": 0.001, \"batch_size\": 16, \"epochs\": 20},\n",
        "    {\"units\": 100, \"learning_rate\": 0.001, \"batch_size\": 32, \"epochs\": 50},\n",
        "    {\"units\": 100, \"learning_rate\": 0.01, \"batch_size\": 16, \"epochs\": 20},\n",
        "]\n",
        "\n",
        "best_mse = float(\"inf\")\n",
        "best_config = {}\n",
        "\n",
        "# Cross-validation setup\n",
        "kf = KFold(n_splits=5, shuffle=True, random_state=42)\n",
        "\n",
        "# Iteratively evaluate hyperparameters\n",
        "for params in hyperparams:\n",
        "    mse_scores = []\n",
        "    mae_scores = []\n",
        "\n",
        "    for train_idx, val_idx in kf.split(X_train_lstm):\n",
        "        X_train_fold, X_val_fold = X_train_lstm[train_idx], X_train_lstm[val_idx]\n",
        "        y_train_fold, y_val_fold = y_train[train_idx], y_train[val_idx]\n",
        "\n",
        "        # Build LSTM model\n",
        "        model = Sequential([\n",
        "            LSTM(params[\"units\"], activation='relu', input_shape=(X_train_lstm.shape[1], X_train_lstm.shape[2])),\n",
        "            Dense(1)\n",
        "        ])\n",
        "        optimizer = Adam(learning_rate=params[\"learning_rate\"])\n",
        "        model.compile(optimizer=optimizer, loss='mse')\n",
        "\n",
        "        # Train the model\n",
        "        model.fit(X_train_fold, y_train_fold, epochs=params[\"epochs\"], batch_size=params[\"batch_size\"], verbose=0)\n",
        "\n",
        "        # Predict and evaluate\n",
        "        predictions = model.predict(X_val_fold)\n",
        "        mse = mean_squared_error(y_val_fold, predictions)\n",
        "        mae = mean_absolute_error(y_val_fold, predictions)\n",
        "\n",
        "        mse_scores.append(mse)\n",
        "        mae_scores.append(mae)\n",
        "\n",
        "    # Calculate metrics\n",
        "    mean_mse = np.mean(mse_scores)\n",
        "    std_mse = np.std(mse_scores)\n",
        "    mean_rmse = np.sqrt(mean_mse)\n",
        "    mean_mae = np.mean(mae_scores)\n",
        "\n",
        "    # Round metrics to 5 decimal places\n",
        "    mean_mse = round(mean_mse, 5)\n",
        "    std_mse = round(std_mse, 5)\n",
        "    mean_rmse = round(mean_rmse, 5)\n",
        "    mean_mae = round(mean_mae, 5)\n",
        "\n",
        "    # Update best configuration\n",
        "    if mean_mse < best_mse:\n",
        "        best_mse = mean_mse\n",
        "        best_config = {\n",
        "            **params,\n",
        "            \"Mean MSE\": mean_mse,\n",
        "            \"Std Dev (MSE)\": std_mse,\n",
        "            \"Mean RMSE\": mean_rmse,\n",
        "            \"Mean MAE\": mean_mae,\n",
        "        }\n",
        "\n",
        "# Output the best configuration\n",
        "print(\"Best LSTM Configuration:\", best_config)\n",
        "\n"
      ],
      "metadata": {
        "colab": {
          "base_uri": "https://localhost:8080/"
        },
        "id": "exQ74hcV8jzw",
        "outputId": "cdc3feea-826c-47dc-a9ec-ff1ee62700a2"
      },
      "execution_count": 27,
      "outputs": [
        {
          "output_type": "stream",
          "name": "stderr",
          "text": [
            "/usr/local/lib/python3.10/dist-packages/keras/src/layers/rnn/rnn.py:204: UserWarning: Do not pass an `input_shape`/`input_dim` argument to a layer. When using Sequential models, prefer using an `Input(shape)` object as the first layer in the model instead.\n",
            "  super().__init__(**kwargs)\n"
          ]
        },
        {
          "output_type": "stream",
          "name": "stdout",
          "text": [
            "\u001b[1m23/23\u001b[0m \u001b[32m━━━━━━━━━━━━━━━━━━━━\u001b[0m\u001b[37m\u001b[0m \u001b[1m0s\u001b[0m 9ms/step\n"
          ]
        },
        {
          "output_type": "stream",
          "name": "stderr",
          "text": [
            "/usr/local/lib/python3.10/dist-packages/keras/src/layers/rnn/rnn.py:204: UserWarning: Do not pass an `input_shape`/`input_dim` argument to a layer. When using Sequential models, prefer using an `Input(shape)` object as the first layer in the model instead.\n",
            "  super().__init__(**kwargs)\n"
          ]
        },
        {
          "output_type": "stream",
          "name": "stdout",
          "text": [
            "\u001b[1m23/23\u001b[0m \u001b[32m━━━━━━━━━━━━━━━━━━━━\u001b[0m\u001b[37m\u001b[0m \u001b[1m0s\u001b[0m 11ms/step\n"
          ]
        },
        {
          "output_type": "stream",
          "name": "stderr",
          "text": [
            "/usr/local/lib/python3.10/dist-packages/keras/src/layers/rnn/rnn.py:204: UserWarning: Do not pass an `input_shape`/`input_dim` argument to a layer. When using Sequential models, prefer using an `Input(shape)` object as the first layer in the model instead.\n",
            "  super().__init__(**kwargs)\n"
          ]
        },
        {
          "output_type": "stream",
          "name": "stdout",
          "text": [
            "\u001b[1m23/23\u001b[0m \u001b[32m━━━━━━━━━━━━━━━━━━━━\u001b[0m\u001b[37m\u001b[0m \u001b[1m1s\u001b[0m 15ms/step\n"
          ]
        },
        {
          "output_type": "stream",
          "name": "stderr",
          "text": [
            "/usr/local/lib/python3.10/dist-packages/keras/src/layers/rnn/rnn.py:204: UserWarning: Do not pass an `input_shape`/`input_dim` argument to a layer. When using Sequential models, prefer using an `Input(shape)` object as the first layer in the model instead.\n",
            "  super().__init__(**kwargs)\n"
          ]
        },
        {
          "output_type": "stream",
          "name": "stdout",
          "text": [
            "\u001b[1m23/23\u001b[0m \u001b[32m━━━━━━━━━━━━━━━━━━━━\u001b[0m\u001b[37m\u001b[0m \u001b[1m0s\u001b[0m 11ms/step\n"
          ]
        },
        {
          "output_type": "stream",
          "name": "stderr",
          "text": [
            "/usr/local/lib/python3.10/dist-packages/keras/src/layers/rnn/rnn.py:204: UserWarning: Do not pass an `input_shape`/`input_dim` argument to a layer. When using Sequential models, prefer using an `Input(shape)` object as the first layer in the model instead.\n",
            "  super().__init__(**kwargs)\n"
          ]
        },
        {
          "output_type": "stream",
          "name": "stdout",
          "text": [
            "\u001b[1m23/23\u001b[0m \u001b[32m━━━━━━━━━━━━━━━━━━━━\u001b[0m\u001b[37m\u001b[0m \u001b[1m1s\u001b[0m 14ms/step\n"
          ]
        },
        {
          "output_type": "stream",
          "name": "stderr",
          "text": [
            "/usr/local/lib/python3.10/dist-packages/keras/src/layers/rnn/rnn.py:204: UserWarning: Do not pass an `input_shape`/`input_dim` argument to a layer. When using Sequential models, prefer using an `Input(shape)` object as the first layer in the model instead.\n",
            "  super().__init__(**kwargs)\n"
          ]
        },
        {
          "output_type": "stream",
          "name": "stdout",
          "text": [
            "\u001b[1m23/23\u001b[0m \u001b[32m━━━━━━━━━━━━━━━━━━━━\u001b[0m\u001b[37m\u001b[0m \u001b[1m0s\u001b[0m 8ms/step\n"
          ]
        },
        {
          "output_type": "stream",
          "name": "stderr",
          "text": [
            "/usr/local/lib/python3.10/dist-packages/keras/src/layers/rnn/rnn.py:204: UserWarning: Do not pass an `input_shape`/`input_dim` argument to a layer. When using Sequential models, prefer using an `Input(shape)` object as the first layer in the model instead.\n",
            "  super().__init__(**kwargs)\n"
          ]
        },
        {
          "output_type": "stream",
          "name": "stdout",
          "text": [
            "\u001b[1m23/23\u001b[0m \u001b[32m━━━━━━━━━━━━━━━━━━━━\u001b[0m\u001b[37m\u001b[0m \u001b[1m0s\u001b[0m 9ms/step\n"
          ]
        },
        {
          "output_type": "stream",
          "name": "stderr",
          "text": [
            "/usr/local/lib/python3.10/dist-packages/keras/src/layers/rnn/rnn.py:204: UserWarning: Do not pass an `input_shape`/`input_dim` argument to a layer. When using Sequential models, prefer using an `Input(shape)` object as the first layer in the model instead.\n",
            "  super().__init__(**kwargs)\n"
          ]
        },
        {
          "output_type": "stream",
          "name": "stdout",
          "text": [
            "\u001b[1m23/23\u001b[0m \u001b[32m━━━━━━━━━━━━━━━━━━━━\u001b[0m\u001b[37m\u001b[0m \u001b[1m0s\u001b[0m 10ms/step\n"
          ]
        },
        {
          "output_type": "stream",
          "name": "stderr",
          "text": [
            "/usr/local/lib/python3.10/dist-packages/keras/src/layers/rnn/rnn.py:204: UserWarning: Do not pass an `input_shape`/`input_dim` argument to a layer. When using Sequential models, prefer using an `Input(shape)` object as the first layer in the model instead.\n",
            "  super().__init__(**kwargs)\n"
          ]
        },
        {
          "output_type": "stream",
          "name": "stdout",
          "text": [
            "\u001b[1m23/23\u001b[0m \u001b[32m━━━━━━━━━━━━━━━━━━━━\u001b[0m\u001b[37m\u001b[0m \u001b[1m1s\u001b[0m 30ms/step\n"
          ]
        },
        {
          "output_type": "stream",
          "name": "stderr",
          "text": [
            "/usr/local/lib/python3.10/dist-packages/keras/src/layers/rnn/rnn.py:204: UserWarning: Do not pass an `input_shape`/`input_dim` argument to a layer. When using Sequential models, prefer using an `Input(shape)` object as the first layer in the model instead.\n",
            "  super().__init__(**kwargs)\n"
          ]
        },
        {
          "output_type": "stream",
          "name": "stdout",
          "text": [
            "\u001b[1m23/23\u001b[0m \u001b[32m━━━━━━━━━━━━━━━━━━━━\u001b[0m\u001b[37m\u001b[0m \u001b[1m0s\u001b[0m 9ms/step\n"
          ]
        },
        {
          "output_type": "stream",
          "name": "stderr",
          "text": [
            "/usr/local/lib/python3.10/dist-packages/keras/src/layers/rnn/rnn.py:204: UserWarning: Do not pass an `input_shape`/`input_dim` argument to a layer. When using Sequential models, prefer using an `Input(shape)` object as the first layer in the model instead.\n",
            "  super().__init__(**kwargs)\n"
          ]
        },
        {
          "output_type": "stream",
          "name": "stdout",
          "text": [
            "\u001b[1m23/23\u001b[0m \u001b[32m━━━━━━━━━━━━━━━━━━━━\u001b[0m\u001b[37m\u001b[0m \u001b[1m0s\u001b[0m 9ms/step\n"
          ]
        },
        {
          "output_type": "stream",
          "name": "stderr",
          "text": [
            "/usr/local/lib/python3.10/dist-packages/keras/src/layers/rnn/rnn.py:204: UserWarning: Do not pass an `input_shape`/`input_dim` argument to a layer. When using Sequential models, prefer using an `Input(shape)` object as the first layer in the model instead.\n",
            "  super().__init__(**kwargs)\n"
          ]
        },
        {
          "output_type": "stream",
          "name": "stdout",
          "text": [
            "\u001b[1m23/23\u001b[0m \u001b[32m━━━━━━━━━━━━━━━━━━━━\u001b[0m\u001b[37m\u001b[0m \u001b[1m0s\u001b[0m 10ms/step\n"
          ]
        },
        {
          "output_type": "stream",
          "name": "stderr",
          "text": [
            "/usr/local/lib/python3.10/dist-packages/keras/src/layers/rnn/rnn.py:204: UserWarning: Do not pass an `input_shape`/`input_dim` argument to a layer. When using Sequential models, prefer using an `Input(shape)` object as the first layer in the model instead.\n",
            "  super().__init__(**kwargs)\n"
          ]
        },
        {
          "output_type": "stream",
          "name": "stdout",
          "text": [
            "\u001b[1m23/23\u001b[0m \u001b[32m━━━━━━━━━━━━━━━━━━━━\u001b[0m\u001b[37m\u001b[0m \u001b[1m1s\u001b[0m 13ms/step\n"
          ]
        },
        {
          "output_type": "stream",
          "name": "stderr",
          "text": [
            "/usr/local/lib/python3.10/dist-packages/keras/src/layers/rnn/rnn.py:204: UserWarning: Do not pass an `input_shape`/`input_dim` argument to a layer. When using Sequential models, prefer using an `Input(shape)` object as the first layer in the model instead.\n",
            "  super().__init__(**kwargs)\n"
          ]
        },
        {
          "output_type": "stream",
          "name": "stdout",
          "text": [
            "\u001b[1m23/23\u001b[0m \u001b[32m━━━━━━━━━━━━━━━━━━━━\u001b[0m\u001b[37m\u001b[0m \u001b[1m0s\u001b[0m 8ms/step\n"
          ]
        },
        {
          "output_type": "stream",
          "name": "stderr",
          "text": [
            "/usr/local/lib/python3.10/dist-packages/keras/src/layers/rnn/rnn.py:204: UserWarning: Do not pass an `input_shape`/`input_dim` argument to a layer. When using Sequential models, prefer using an `Input(shape)` object as the first layer in the model instead.\n",
            "  super().__init__(**kwargs)\n"
          ]
        },
        {
          "output_type": "stream",
          "name": "stdout",
          "text": [
            "\u001b[1m23/23\u001b[0m \u001b[32m━━━━━━━━━━━━━━━━━━━━\u001b[0m\u001b[37m\u001b[0m \u001b[1m0s\u001b[0m 8ms/step\n",
            "Best LSTM Configuration: {'units': 100, 'learning_rate': 0.001, 'batch_size': 32, 'epochs': 50, 'Mean MSE': 0.0, 'Std Dev (MSE)': 0.0, 'Mean RMSE': 0.00211, 'Mean MAE': 0.00135}\n"
          ]
        }
      ]
    },
    {
      "cell_type": "markdown",
      "source": [
        "**ANN Hyperparameter Tuning**"
      ],
      "metadata": {
        "id": "9VhdknsRCQQh"
      }
    },
    {
      "cell_type": "code",
      "source": [
        "# Ensure X_train and y_train are NumPy arrays\n",
        "X_train_np = X_train.numpy() if hasattr(X_train, 'numpy') else X_train\n",
        "y_train_np = y_train.numpy() if hasattr(y_train, 'numpy') else y_train\n",
        "\n",
        "# Predefined hyperparameter combinations\n",
        "ann_hyperparams = [\n",
        "    {\"hidden_layers\": 1, \"neurons\": 64, \"activation\": 'relu', \"learning_rate\": 0.001, \"batch_size\": 16, \"epochs\": 20},\n",
        "    {\"hidden_layers\": 2, \"neurons\": 128, \"activation\": 'relu', \"learning_rate\": 0.001, \"batch_size\": 32, \"epochs\": 50},\n",
        "]\n",
        "\n",
        "best_ann_mse = float(\"inf\")\n",
        "best_ann_config = {}\n",
        "\n",
        "for params in ann_hyperparams:\n",
        "    mse_scores = []\n",
        "    mae_scores = []\n",
        "\n",
        "    for train_idx, val_idx in kf.split(X_train_np, y_train_np):\n",
        "        X_train_fold, X_val_fold = X_train_np[train_idx], X_train_np[val_idx]\n",
        "        y_train_fold, y_val_fold = y_train_np[train_idx], y_train_np[val_idx]\n",
        "\n",
        "        # Build ANN model\n",
        "        model = Sequential()\n",
        "        for _ in range(params[\"hidden_layers\"]):\n",
        "            model.add(Dense(params[\"neurons\"], activation=params[\"activation\"], input_dim=X_train.shape[1]))\n",
        "        model.add(Dense(1))\n",
        "        optimizer = Adam(learning_rate=params[\"learning_rate\"])\n",
        "        model.compile(optimizer=optimizer, loss='mse')\n",
        "\n",
        "        # Train the model\n",
        "        model.fit(X_train_fold, y_train_fold, epochs=params[\"epochs\"], batch_size=params[\"batch_size\"], verbose=0)\n",
        "\n",
        "        # Predict and evaluate\n",
        "        predictions = model.predict(X_val_fold)\n",
        "        mse = mean_squared_error(y_val_fold, predictions)\n",
        "        mae = mean_absolute_error(y_val_fold, predictions)\n",
        "\n",
        "        mse_scores.append(mse)\n",
        "        mae_scores.append(mae)\n",
        "\n",
        "    # Calculate metrics\n",
        "    mean_mse = np.mean(mse_scores)\n",
        "    std_mse = np.std(mse_scores)\n",
        "    mean_rmse = np.sqrt(mean_mse)\n",
        "    mean_mae = np.mean(mae_scores)\n",
        "\n",
        "    # Round metrics to 5 decimal places\n",
        "    mean_mse = round(mean_mse, 5)\n",
        "    std_mse = round(std_mse, 5)\n",
        "    mean_rmse = round(mean_rmse, 5)\n",
        "    mean_mae = round(mean_mae, 5)\n",
        "\n",
        "    # Update best configuration\n",
        "    if mean_mse < best_ann_mse:\n",
        "        best_ann_mse = mean_mse\n",
        "        best_ann_config = {\n",
        "            **params,\n",
        "            \"Mean MSE\": mean_mse,\n",
        "            \"Std Dev (MSE)\": std_mse,\n",
        "            \"Mean RMSE\": mean_rmse,\n",
        "            \"Mean MAE\": mean_mae,\n",
        "        }\n",
        "\n",
        "print(\"Best ANN Configuration:\", best_ann_config)\n"
      ],
      "metadata": {
        "colab": {
          "base_uri": "https://localhost:8080/"
        },
        "id": "hensh3qy-RbS",
        "outputId": "90dfd46a-df86-47fe-efc9-e5c69635b4eb"
      },
      "execution_count": 26,
      "outputs": [
        {
          "output_type": "stream",
          "name": "stderr",
          "text": [
            "/usr/local/lib/python3.10/dist-packages/keras/src/layers/core/dense.py:87: UserWarning: Do not pass an `input_shape`/`input_dim` argument to a layer. When using Sequential models, prefer using an `Input(shape)` object as the first layer in the model instead.\n",
            "  super().__init__(activity_regularizer=activity_regularizer, **kwargs)\n"
          ]
        },
        {
          "output_type": "stream",
          "name": "stdout",
          "text": [
            "\u001b[1m23/23\u001b[0m \u001b[32m━━━━━━━━━━━━━━━━━━━━\u001b[0m\u001b[37m\u001b[0m \u001b[1m0s\u001b[0m 3ms/step\n"
          ]
        },
        {
          "output_type": "stream",
          "name": "stderr",
          "text": [
            "/usr/local/lib/python3.10/dist-packages/keras/src/layers/core/dense.py:87: UserWarning: Do not pass an `input_shape`/`input_dim` argument to a layer. When using Sequential models, prefer using an `Input(shape)` object as the first layer in the model instead.\n",
            "  super().__init__(activity_regularizer=activity_regularizer, **kwargs)\n"
          ]
        },
        {
          "output_type": "stream",
          "name": "stdout",
          "text": [
            "\u001b[1m23/23\u001b[0m \u001b[32m━━━━━━━━━━━━━━━━━━━━\u001b[0m\u001b[37m\u001b[0m \u001b[1m0s\u001b[0m 3ms/step\n"
          ]
        },
        {
          "output_type": "stream",
          "name": "stderr",
          "text": [
            "/usr/local/lib/python3.10/dist-packages/keras/src/layers/core/dense.py:87: UserWarning: Do not pass an `input_shape`/`input_dim` argument to a layer. When using Sequential models, prefer using an `Input(shape)` object as the first layer in the model instead.\n",
            "  super().__init__(activity_regularizer=activity_regularizer, **kwargs)\n"
          ]
        },
        {
          "output_type": "stream",
          "name": "stdout",
          "text": [
            "\u001b[1m23/23\u001b[0m \u001b[32m━━━━━━━━━━━━━━━━━━━━\u001b[0m\u001b[37m\u001b[0m \u001b[1m0s\u001b[0m 3ms/step\n"
          ]
        },
        {
          "output_type": "stream",
          "name": "stderr",
          "text": [
            "/usr/local/lib/python3.10/dist-packages/keras/src/layers/core/dense.py:87: UserWarning: Do not pass an `input_shape`/`input_dim` argument to a layer. When using Sequential models, prefer using an `Input(shape)` object as the first layer in the model instead.\n",
            "  super().__init__(activity_regularizer=activity_regularizer, **kwargs)\n"
          ]
        },
        {
          "output_type": "stream",
          "name": "stdout",
          "text": [
            "\u001b[1m23/23\u001b[0m \u001b[32m━━━━━━━━━━━━━━━━━━━━\u001b[0m\u001b[37m\u001b[0m \u001b[1m0s\u001b[0m 3ms/step\n"
          ]
        },
        {
          "output_type": "stream",
          "name": "stderr",
          "text": [
            "/usr/local/lib/python3.10/dist-packages/keras/src/layers/core/dense.py:87: UserWarning: Do not pass an `input_shape`/`input_dim` argument to a layer. When using Sequential models, prefer using an `Input(shape)` object as the first layer in the model instead.\n",
            "  super().__init__(activity_regularizer=activity_regularizer, **kwargs)\n"
          ]
        },
        {
          "output_type": "stream",
          "name": "stdout",
          "text": [
            "\u001b[1m23/23\u001b[0m \u001b[32m━━━━━━━━━━━━━━━━━━━━\u001b[0m\u001b[37m\u001b[0m \u001b[1m0s\u001b[0m 2ms/step\n"
          ]
        },
        {
          "output_type": "stream",
          "name": "stderr",
          "text": [
            "/usr/local/lib/python3.10/dist-packages/keras/src/layers/core/dense.py:87: UserWarning: Do not pass an `input_shape`/`input_dim` argument to a layer. When using Sequential models, prefer using an `Input(shape)` object as the first layer in the model instead.\n",
            "  super().__init__(activity_regularizer=activity_regularizer, **kwargs)\n"
          ]
        },
        {
          "output_type": "stream",
          "name": "stdout",
          "text": [
            "\u001b[1m23/23\u001b[0m \u001b[32m━━━━━━━━━━━━━━━━━━━━\u001b[0m\u001b[37m\u001b[0m \u001b[1m0s\u001b[0m 3ms/step\n"
          ]
        },
        {
          "output_type": "stream",
          "name": "stderr",
          "text": [
            "/usr/local/lib/python3.10/dist-packages/keras/src/layers/core/dense.py:87: UserWarning: Do not pass an `input_shape`/`input_dim` argument to a layer. When using Sequential models, prefer using an `Input(shape)` object as the first layer in the model instead.\n",
            "  super().__init__(activity_regularizer=activity_regularizer, **kwargs)\n"
          ]
        },
        {
          "output_type": "stream",
          "name": "stdout",
          "text": [
            "\u001b[1m23/23\u001b[0m \u001b[32m━━━━━━━━━━━━━━━━━━━━\u001b[0m\u001b[37m\u001b[0m \u001b[1m0s\u001b[0m 3ms/step\n"
          ]
        },
        {
          "output_type": "stream",
          "name": "stderr",
          "text": [
            "/usr/local/lib/python3.10/dist-packages/keras/src/layers/core/dense.py:87: UserWarning: Do not pass an `input_shape`/`input_dim` argument to a layer. When using Sequential models, prefer using an `Input(shape)` object as the first layer in the model instead.\n",
            "  super().__init__(activity_regularizer=activity_regularizer, **kwargs)\n"
          ]
        },
        {
          "output_type": "stream",
          "name": "stdout",
          "text": [
            "\u001b[1m23/23\u001b[0m \u001b[32m━━━━━━━━━━━━━━━━━━━━\u001b[0m\u001b[37m\u001b[0m \u001b[1m0s\u001b[0m 3ms/step\n"
          ]
        },
        {
          "output_type": "stream",
          "name": "stderr",
          "text": [
            "/usr/local/lib/python3.10/dist-packages/keras/src/layers/core/dense.py:87: UserWarning: Do not pass an `input_shape`/`input_dim` argument to a layer. When using Sequential models, prefer using an `Input(shape)` object as the first layer in the model instead.\n",
            "  super().__init__(activity_regularizer=activity_regularizer, **kwargs)\n"
          ]
        },
        {
          "output_type": "stream",
          "name": "stdout",
          "text": [
            "\u001b[1m23/23\u001b[0m \u001b[32m━━━━━━━━━━━━━━━━━━━━\u001b[0m\u001b[37m\u001b[0m \u001b[1m0s\u001b[0m 3ms/step\n"
          ]
        },
        {
          "output_type": "stream",
          "name": "stderr",
          "text": [
            "/usr/local/lib/python3.10/dist-packages/keras/src/layers/core/dense.py:87: UserWarning: Do not pass an `input_shape`/`input_dim` argument to a layer. When using Sequential models, prefer using an `Input(shape)` object as the first layer in the model instead.\n",
            "  super().__init__(activity_regularizer=activity_regularizer, **kwargs)\n"
          ]
        },
        {
          "output_type": "stream",
          "name": "stdout",
          "text": [
            "\u001b[1m23/23\u001b[0m \u001b[32m━━━━━━━━━━━━━━━━━━━━\u001b[0m\u001b[37m\u001b[0m \u001b[1m0s\u001b[0m 3ms/step\n",
            "Best ANN Configuration: {'hidden_layers': 2, 'neurons': 128, 'activation': 'relu', 'learning_rate': 0.001, 'batch_size': 32, 'epochs': 50, 'Mean MSE': 0.0, 'Std Dev (MSE)': 0.0, 'Mean RMSE': 0.00157, 'Mean MAE': 0.00099}\n"
          ]
        }
      ]
    },
    {
      "cell_type": "markdown",
      "source": [
        "**Random Forest Hyperparameter Tuning**"
      ],
      "metadata": {
        "id": "G96U7ZMjClmE"
      }
    },
    {
      "cell_type": "code",
      "source": [
        "import numpy as np\n",
        "from sklearn.ensemble import RandomForestRegressor\n",
        "from sklearn.model_selection import GridSearchCV\n",
        "from sklearn.metrics import mean_squared_error, mean_absolute_error\n",
        "\n",
        "# Ensure X_train and y_train are NumPy arrays\n",
        "X_train_np = X_train.numpy() if hasattr(X_train, 'numpy') else X_train\n",
        "y_train_np = y_train.numpy() if hasattr(y_train, 'numpy') else y_train\n",
        "\n",
        "# Predefined hyperparameter grid\n",
        "rf_hyperparams = {\n",
        "    'n_estimators': [100, 200],\n",
        "    'max_depth': [10, 20],\n",
        "    'min_samples_leaf': [2]\n",
        "}\n",
        "\n",
        "# Grid search with 5-fold cross-validation\n",
        "rf_model = RandomForestRegressor(random_state=42)\n",
        "grid_search = GridSearchCV(\n",
        "    estimator=rf_model,\n",
        "    param_grid=rf_hyperparams,\n",
        "    cv=5,\n",
        "    scoring='neg_mean_squared_error',\n",
        "    verbose=0\n",
        ")\n",
        "grid_search.fit(X_train_np, y_train_np)\n",
        "\n",
        "# Evaluate the best model\n",
        "rf_best_model = grid_search.best_estimator_\n",
        "rf_predictions = rf_best_model.predict(X_test)\n",
        "\n",
        "# Metrics\n",
        "rf_mse = mean_squared_error(y_test, rf_predictions)\n",
        "rf_rmse = np.sqrt(rf_mse)\n",
        "rf_mae = mean_absolute_error(y_test, rf_predictions)\n",
        "rf_std = np.std(y_test - rf_predictions)  # Standard deviation of residuals\n",
        "\n",
        "# Round metrics to 5 decimal places\n",
        "rf_mse = round(rf_mse, 5)\n",
        "rf_rmse = round(rf_rmse, 5)\n",
        "rf_mae = round(rf_mae, 5)\n",
        "rf_std = round(rf_std, 5)\n",
        "\n",
        "# Best hyperparameters and metrics\n",
        "rf_best_config = {\n",
        "    \"Best Parameters\": grid_search.best_params_,\n",
        "    \"Mean MSE\": rf_mse,\n",
        "    \"Mean RMSE\": rf_rmse,\n",
        "    \"Mean MAE\": rf_mae,\n",
        "    \"Std Dev\": rf_std\n",
        "}\n",
        "print(\"Best Random Forest Configuration:\", rf_best_config)"
      ],
      "metadata": {
        "colab": {
          "base_uri": "https://localhost:8080/"
        },
        "id": "TxrEUoSi_Pql",
        "outputId": "1e38fe09-7c17-426e-b99c-e3be10859ad9"
      },
      "execution_count": 28,
      "outputs": [
        {
          "output_type": "stream",
          "name": "stderr",
          "text": [
            "/usr/local/lib/python3.10/dist-packages/sklearn/base.py:1389: DataConversionWarning: A column-vector y was passed when a 1d array was expected. Please change the shape of y to (n_samples,), for example using ravel().\n",
            "  return fit_method(estimator, *args, **kwargs)\n",
            "/usr/local/lib/python3.10/dist-packages/sklearn/base.py:1389: DataConversionWarning: A column-vector y was passed when a 1d array was expected. Please change the shape of y to (n_samples,), for example using ravel().\n",
            "  return fit_method(estimator, *args, **kwargs)\n",
            "/usr/local/lib/python3.10/dist-packages/sklearn/base.py:1389: DataConversionWarning: A column-vector y was passed when a 1d array was expected. Please change the shape of y to (n_samples,), for example using ravel().\n",
            "  return fit_method(estimator, *args, **kwargs)\n",
            "/usr/local/lib/python3.10/dist-packages/sklearn/base.py:1389: DataConversionWarning: A column-vector y was passed when a 1d array was expected. Please change the shape of y to (n_samples,), for example using ravel().\n",
            "  return fit_method(estimator, *args, **kwargs)\n",
            "/usr/local/lib/python3.10/dist-packages/sklearn/base.py:1389: DataConversionWarning: A column-vector y was passed when a 1d array was expected. Please change the shape of y to (n_samples,), for example using ravel().\n",
            "  return fit_method(estimator, *args, **kwargs)\n",
            "/usr/local/lib/python3.10/dist-packages/sklearn/base.py:1389: DataConversionWarning: A column-vector y was passed when a 1d array was expected. Please change the shape of y to (n_samples,), for example using ravel().\n",
            "  return fit_method(estimator, *args, **kwargs)\n",
            "/usr/local/lib/python3.10/dist-packages/sklearn/base.py:1389: DataConversionWarning: A column-vector y was passed when a 1d array was expected. Please change the shape of y to (n_samples,), for example using ravel().\n",
            "  return fit_method(estimator, *args, **kwargs)\n",
            "/usr/local/lib/python3.10/dist-packages/sklearn/base.py:1389: DataConversionWarning: A column-vector y was passed when a 1d array was expected. Please change the shape of y to (n_samples,), for example using ravel().\n",
            "  return fit_method(estimator, *args, **kwargs)\n",
            "/usr/local/lib/python3.10/dist-packages/sklearn/base.py:1389: DataConversionWarning: A column-vector y was passed when a 1d array was expected. Please change the shape of y to (n_samples,), for example using ravel().\n",
            "  return fit_method(estimator, *args, **kwargs)\n",
            "/usr/local/lib/python3.10/dist-packages/sklearn/base.py:1389: DataConversionWarning: A column-vector y was passed when a 1d array was expected. Please change the shape of y to (n_samples,), for example using ravel().\n",
            "  return fit_method(estimator, *args, **kwargs)\n",
            "/usr/local/lib/python3.10/dist-packages/sklearn/base.py:1389: DataConversionWarning: A column-vector y was passed when a 1d array was expected. Please change the shape of y to (n_samples,), for example using ravel().\n",
            "  return fit_method(estimator, *args, **kwargs)\n",
            "/usr/local/lib/python3.10/dist-packages/sklearn/base.py:1389: DataConversionWarning: A column-vector y was passed when a 1d array was expected. Please change the shape of y to (n_samples,), for example using ravel().\n",
            "  return fit_method(estimator, *args, **kwargs)\n",
            "/usr/local/lib/python3.10/dist-packages/sklearn/base.py:1389: DataConversionWarning: A column-vector y was passed when a 1d array was expected. Please change the shape of y to (n_samples,), for example using ravel().\n",
            "  return fit_method(estimator, *args, **kwargs)\n",
            "/usr/local/lib/python3.10/dist-packages/sklearn/base.py:1389: DataConversionWarning: A column-vector y was passed when a 1d array was expected. Please change the shape of y to (n_samples,), for example using ravel().\n",
            "  return fit_method(estimator, *args, **kwargs)\n",
            "/usr/local/lib/python3.10/dist-packages/sklearn/base.py:1389: DataConversionWarning: A column-vector y was passed when a 1d array was expected. Please change the shape of y to (n_samples,), for example using ravel().\n",
            "  return fit_method(estimator, *args, **kwargs)\n",
            "/usr/local/lib/python3.10/dist-packages/sklearn/base.py:1389: DataConversionWarning: A column-vector y was passed when a 1d array was expected. Please change the shape of y to (n_samples,), for example using ravel().\n",
            "  return fit_method(estimator, *args, **kwargs)\n",
            "/usr/local/lib/python3.10/dist-packages/sklearn/base.py:1389: DataConversionWarning: A column-vector y was passed when a 1d array was expected. Please change the shape of y to (n_samples,), for example using ravel().\n",
            "  return fit_method(estimator, *args, **kwargs)\n",
            "/usr/local/lib/python3.10/dist-packages/sklearn/base.py:1389: DataConversionWarning: A column-vector y was passed when a 1d array was expected. Please change the shape of y to (n_samples,), for example using ravel().\n",
            "  return fit_method(estimator, *args, **kwargs)\n",
            "/usr/local/lib/python3.10/dist-packages/sklearn/base.py:1389: DataConversionWarning: A column-vector y was passed when a 1d array was expected. Please change the shape of y to (n_samples,), for example using ravel().\n",
            "  return fit_method(estimator, *args, **kwargs)\n",
            "/usr/local/lib/python3.10/dist-packages/sklearn/base.py:1389: DataConversionWarning: A column-vector y was passed when a 1d array was expected. Please change the shape of y to (n_samples,), for example using ravel().\n",
            "  return fit_method(estimator, *args, **kwargs)\n",
            "/usr/local/lib/python3.10/dist-packages/sklearn/base.py:1389: DataConversionWarning: A column-vector y was passed when a 1d array was expected. Please change the shape of y to (n_samples,), for example using ravel().\n",
            "  return fit_method(estimator, *args, **kwargs)\n"
          ]
        },
        {
          "output_type": "stream",
          "name": "stdout",
          "text": [
            "Best Random Forest Configuration: {'Best Parameters': {'max_depth': 20, 'min_samples_leaf': 2, 'n_estimators': 200}, 'Mean MSE': 0.0, 'Mean RMSE': 0.0009, 'Mean MAE': 0.00024, 'Std Dev': 0.37813}\n"
          ]
        }
      ]
    }
  ]
}