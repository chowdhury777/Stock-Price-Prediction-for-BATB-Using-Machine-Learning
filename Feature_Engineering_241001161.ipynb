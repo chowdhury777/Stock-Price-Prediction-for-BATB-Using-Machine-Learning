{
  "nbformat": 4,
  "nbformat_minor": 0,
  "metadata": {
    "colab": {
      "provenance": []
    },
    "kernelspec": {
      "name": "python3",
      "display_name": "Python 3"
    },
    "language_info": {
      "name": "python"
    }
  },
  "cells": [
    {
      "cell_type": "markdown",
      "source": [
        "# Load Dataset"
      ],
      "metadata": {
        "id": "Ap6DJa8qpzdS"
      }
    },
    {
      "cell_type": "code",
      "execution_count": null,
      "metadata": {
        "colab": {
          "base_uri": "https://localhost:8080/"
        },
        "id": "BWWfiztcpaOS",
        "outputId": "ec740a5a-53bd-4c14-915e-c3510ba13ad9"
      },
      "outputs": [
        {
          "output_type": "stream",
          "name": "stderr",
          "text": [
            "<ipython-input-7-3734b283e1dc>:7: UserWarning: Could not infer format, so each element will be parsed individually, falling back to `dateutil`. To ensure parsing is consistent and as-expected, please specify a format.\n",
            "  df['Date'] = pd.to_datetime(df['Date'])\n"
          ]
        },
        {
          "output_type": "stream",
          "name": "stdout",
          "text": [
            "        Date   Open   High    Low  Close  Volume\n",
            "0 2023-03-30  518.7  518.7  518.7  518.7   324.0\n",
            "1 2023-03-29  518.7  518.7  518.7  518.7   700.0\n",
            "2 2023-03-28  518.7  518.7  518.7  518.7   277.0\n",
            "3 2023-03-27  518.7  518.7  518.7  518.7   692.0\n",
            "4 2023-03-23  518.7  518.7  518.7  518.7   109.0\n",
            "<class 'pandas.core.frame.DataFrame'>\n",
            "RangeIndex: 4584 entries, 0 to 4583\n",
            "Data columns (total 6 columns):\n",
            " #   Column  Non-Null Count  Dtype         \n",
            "---  ------  --------------  -----         \n",
            " 0   Date    4584 non-null   datetime64[ns]\n",
            " 1   Open    4584 non-null   float64       \n",
            " 2   High    4584 non-null   float64       \n",
            " 3   Low     4584 non-null   float64       \n",
            " 4   Close   4584 non-null   float64       \n",
            " 5   Volume  4584 non-null   float64       \n",
            "dtypes: datetime64[ns](1), float64(5)\n",
            "memory usage: 215.0 KB\n",
            "None\n"
          ]
        }
      ],
      "source": [
        "import pandas as pd\n",
        "import numpy as np\n",
        "\n",
        "# Load dataset\n",
        "df = pd.read_csv('/content/BAT_DATASET.csv')\n",
        "df.columns = ['Date', 'Open', 'High', 'Low', 'Close', 'Volume']\n",
        "df['Date'] = pd.to_datetime(df['Date'])\n",
        "\n",
        "# Inspect the dataset\n",
        "print(df.head())\n",
        "print(df.info())\n"
      ]
    },
    {
      "cell_type": "markdown",
      "source": [
        "# Create Polynomial Features"
      ],
      "metadata": {
        "id": "isH8jNfnp5DD"
      }
    },
    {
      "cell_type": "code",
      "source": [
        "from sklearn.preprocessing import PolynomialFeatures\n",
        "\n",
        "# Polynomial Features (degree 2)\n",
        "poly = PolynomialFeatures(degree=2, include_bias=False)\n",
        "poly_features = poly.fit_transform(df[['Open', 'High', 'Low', 'Close']])\n",
        "poly_feature_names = poly.get_feature_names_out(['Open', 'High', 'Low', 'Close'])\n",
        "\n",
        "# Add polynomial features to dataset\n",
        "poly_df = pd.DataFrame(poly_features, columns=poly_feature_names)\n",
        "df = pd.concat([df, poly_df], axis=1)\n",
        "\n",
        "print(\"Added polynomial features:\")\n",
        "print(poly_df.head())\n"
      ],
      "metadata": {
        "colab": {
          "base_uri": "https://localhost:8080/"
        },
        "id": "lO3A970LpzL8",
        "outputId": "3044231b-c543-4aea-d4a4-fbca4e4d2ab2"
      },
      "execution_count": null,
      "outputs": [
        {
          "output_type": "stream",
          "name": "stdout",
          "text": [
            "Added polynomial features:\n",
            "    Open   High    Low  Close     Open^2  Open High   Open Low  Open Close  \\\n",
            "0  518.7  518.7  518.7  518.7  269049.69  269049.69  269049.69   269049.69   \n",
            "1  518.7  518.7  518.7  518.7  269049.69  269049.69  269049.69   269049.69   \n",
            "2  518.7  518.7  518.7  518.7  269049.69  269049.69  269049.69   269049.69   \n",
            "3  518.7  518.7  518.7  518.7  269049.69  269049.69  269049.69   269049.69   \n",
            "4  518.7  518.7  518.7  518.7  269049.69  269049.69  269049.69   269049.69   \n",
            "\n",
            "      High^2   High Low  High Close      Low^2  Low Close    Close^2  \n",
            "0  269049.69  269049.69   269049.69  269049.69  269049.69  269049.69  \n",
            "1  269049.69  269049.69   269049.69  269049.69  269049.69  269049.69  \n",
            "2  269049.69  269049.69   269049.69  269049.69  269049.69  269049.69  \n",
            "3  269049.69  269049.69   269049.69  269049.69  269049.69  269049.69  \n",
            "4  269049.69  269049.69   269049.69  269049.69  269049.69  269049.69  \n"
          ]
        }
      ]
    },
    {
      "cell_type": "markdown",
      "source": [
        "# Create Interaction Features"
      ],
      "metadata": {
        "id": "XRmfIRa_qgym"
      }
    },
    {
      "cell_type": "code",
      "source": [
        "import pandas as pd\n",
        "import numpy as np\n",
        "\n",
        "# Load dataset\n",
        "df = pd.read_csv('/content/BAT_DATASET.csv')\n",
        "df.columns = ['Date', 'Open', 'High', 'Low', 'Close', 'Volume']\n",
        "df['Date'] = pd.to_datetime(df['Date'])\n",
        "\n",
        "# Debugging: Check the structure of the dataset\n",
        "print(df.head())\n",
        "print(df.info())\n",
        "\n",
        "# Ensure 'High' and 'Low' are Series\n",
        "print(\"Checking data types of 'High' and 'Low':\")\n",
        "print(type(df['High']), type(df['Low']))\n",
        "\n",
        "# Ensure 'High' and 'Low' are numeric and fix issues if necessary\n",
        "df['High'] = pd.to_numeric(df['High'], errors='coerce')\n",
        "df['Low'] = pd.to_numeric(df['Low'], errors='coerce')\n",
        "\n",
        "# Handle missing values if any\n",
        "df['High'].fillna(df['High'].mean(), inplace=True)\n",
        "df['Low'].fillna(df['Low'].mean(), inplace=True)\n",
        "\n",
        "# Debugging: Check for missing values and data types again\n",
        "print(\"After conversion and filling missing values:\")\n",
        "print(df[['High', 'Low']].isnull().sum())\n",
        "print(df[['High', 'Low']].head())\n",
        "\n",
        "# Calculate interaction features\n",
        "df['High_Low_Interaction'] = df['High'] * df['Low']\n",
        "df['Open_Close_Interaction'] = df['Open'] * df['Close']\n",
        "\n",
        "# Debugging: Check the new interaction features\n",
        "print(\"Interaction features added:\")\n",
        "print(df[['High_Low_Interaction', 'Open_Close_Interaction']].head())\n",
        "\n",
        "# Save the updated dataset to a new CSV file\n",
        "df.to_csv('BATB_with_interaction_features.csv', index=False)\n",
        "print(\"Feature engineering completed. Updated dataset saved as 'BATB_with_interaction_features.csv'.\")\n"
      ],
      "metadata": {
        "colab": {
          "base_uri": "https://localhost:8080/"
        },
        "id": "VAPeELWqqhFh",
        "outputId": "5bf435da-81ac-4b51-f429-80571e1415ad"
      },
      "execution_count": null,
      "outputs": [
        {
          "output_type": "stream",
          "name": "stderr",
          "text": [
            "<ipython-input-3-475d8d3a403e>:7: UserWarning: Could not infer format, so each element will be parsed individually, falling back to `dateutil`. To ensure parsing is consistent and as-expected, please specify a format.\n",
            "  df['Date'] = pd.to_datetime(df['Date'])\n"
          ]
        },
        {
          "output_type": "stream",
          "name": "stdout",
          "text": [
            "        Date   Open   High    Low  Close  Volume\n",
            "0 2023-03-30  518.7  518.7  518.7  518.7   324.0\n",
            "1 2023-03-29  518.7  518.7  518.7  518.7   700.0\n",
            "2 2023-03-28  518.7  518.7  518.7  518.7   277.0\n",
            "3 2023-03-27  518.7  518.7  518.7  518.7   692.0\n",
            "4 2023-03-23  518.7  518.7  518.7  518.7   109.0\n",
            "<class 'pandas.core.frame.DataFrame'>\n",
            "RangeIndex: 4584 entries, 0 to 4583\n",
            "Data columns (total 6 columns):\n",
            " #   Column  Non-Null Count  Dtype         \n",
            "---  ------  --------------  -----         \n",
            " 0   Date    4584 non-null   datetime64[ns]\n",
            " 1   Open    4584 non-null   float64       \n",
            " 2   High    4584 non-null   float64       \n",
            " 3   Low     4584 non-null   float64       \n",
            " 4   Close   4584 non-null   float64       \n",
            " 5   Volume  4584 non-null   float64       \n",
            "dtypes: datetime64[ns](1), float64(5)\n",
            "memory usage: 215.0 KB\n",
            "None\n",
            "Checking data types of 'High' and 'Low':\n",
            "<class 'pandas.core.series.Series'> <class 'pandas.core.series.Series'>\n",
            "After conversion and filling missing values:\n",
            "High    0\n",
            "Low     0\n",
            "dtype: int64\n",
            "    High    Low\n",
            "0  518.7  518.7\n",
            "1  518.7  518.7\n",
            "2  518.7  518.7\n",
            "3  518.7  518.7\n",
            "4  518.7  518.7\n",
            "Interaction features added:\n",
            "   High_Low_Interaction  Open_Close_Interaction\n",
            "0             269049.69               269049.69\n",
            "1             269049.69               269049.69\n",
            "2             269049.69               269049.69\n",
            "3             269049.69               269049.69\n",
            "4             269049.69               269049.69\n",
            "Feature engineering completed. Updated dataset saved as 'BATB_with_interaction_features.csv'.\n"
          ]
        },
        {
          "output_type": "stream",
          "name": "stderr",
          "text": [
            "<ipython-input-3-475d8d3a403e>:22: FutureWarning: A value is trying to be set on a copy of a DataFrame or Series through chained assignment using an inplace method.\n",
            "The behavior will change in pandas 3.0. This inplace method will never work because the intermediate object on which we are setting values always behaves as a copy.\n",
            "\n",
            "For example, when doing 'df[col].method(value, inplace=True)', try using 'df.method({col: value}, inplace=True)' or df[col] = df[col].method(value) instead, to perform the operation inplace on the original object.\n",
            "\n",
            "\n",
            "  df['High'].fillna(df['High'].mean(), inplace=True)  # Replace NaN with mean\n",
            "<ipython-input-3-475d8d3a403e>:23: FutureWarning: A value is trying to be set on a copy of a DataFrame or Series through chained assignment using an inplace method.\n",
            "The behavior will change in pandas 3.0. This inplace method will never work because the intermediate object on which we are setting values always behaves as a copy.\n",
            "\n",
            "For example, when doing 'df[col].method(value, inplace=True)', try using 'df.method({col: value}, inplace=True)' or df[col] = df[col].method(value) instead, to perform the operation inplace on the original object.\n",
            "\n",
            "\n",
            "  df['Low'].fillna(df['Low'].mean(), inplace=True)\n"
          ]
        }
      ]
    },
    {
      "cell_type": "markdown",
      "source": [
        "# Create Domain-Specific Features"
      ],
      "metadata": {
        "id": "ISu5SmsIqzBN"
      }
    },
    {
      "cell_type": "code",
      "source": [
        "# Domain-Specific Features\n",
        "df['Daily_Range'] = df['High'] - df['Low']\n",
        "df['Volatility'] = (df['High'] - df['Low']) / df['Open']\n",
        "df['Close_to_Open_Ratio'] = df['Close'] / df['Open']\n",
        "\n",
        "print(\"Added domain-specific features:\")\n",
        "print(df[['Daily_Range', 'Volatility', 'Close_to_Open_Ratio']].head())\n"
      ],
      "metadata": {
        "colab": {
          "base_uri": "https://localhost:8080/"
        },
        "id": "zSJXrfiQq0aS",
        "outputId": "70da828a-9854-49c4-f7b9-757e519b8368"
      },
      "execution_count": null,
      "outputs": [
        {
          "output_type": "stream",
          "name": "stdout",
          "text": [
            "Added domain-specific features:\n",
            "   Daily_Range  Volatility  Close_to_Open_Ratio\n",
            "0          0.0         0.0                  1.0\n",
            "1          0.0         0.0                  1.0\n",
            "2          0.0         0.0                  1.0\n",
            "3          0.0         0.0                  1.0\n",
            "4          0.0         0.0                  1.0\n"
          ]
        }
      ]
    },
    {
      "cell_type": "markdown",
      "source": [
        "# Apply Principal Component Analysis (PCA)"
      ],
      "metadata": {
        "id": "EHFVal6Eq--b"
      }
    },
    {
      "cell_type": "code",
      "source": [
        "from sklearn.decomposition import PCA\n",
        "from sklearn.preprocessing import StandardScaler\n",
        "\n",
        "# Standardize features for PCA\n",
        "scaler = StandardScaler()\n",
        "scaled_features = scaler.fit_transform(df[['Open', 'High', 'Low', 'Close']])\n",
        "\n",
        "# Perform PCA\n",
        "pca = PCA(n_components=2)\n",
        "pca_features = pca.fit_transform(scaled_features)\n",
        "\n",
        "# Add PCA features to dataset\n",
        "df['PCA1'] = pca_features[:, 0]\n",
        "df['PCA2'] = pca_features[:, 1]\n",
        "\n",
        "print(\"Added PCA features:\")\n",
        "print(df[['PCA1', 'PCA2']].head())\n"
      ],
      "metadata": {
        "colab": {
          "base_uri": "https://localhost:8080/"
        },
        "id": "hHKquqNpq-tU",
        "outputId": "f03dfb68-8805-4a20-c6a3-737448875598"
      },
      "execution_count": null,
      "outputs": [
        {
          "output_type": "stream",
          "name": "stdout",
          "text": [
            "Added PCA features:\n",
            "       PCA1      PCA2\n",
            "0  3.705931  0.031668\n",
            "1  3.705931  0.031668\n",
            "2  3.705931  0.031668\n",
            "3  3.705931  0.031668\n",
            "4  3.705931  0.031668\n"
          ]
        }
      ]
    },
    {
      "cell_type": "markdown",
      "source": [
        "# Apply Log Transformation"
      ],
      "metadata": {
        "id": "sft1hEIIrFfi"
      }
    },
    {
      "cell_type": "code",
      "source": [
        "# Log Transformation\n",
        "df['Log_Volume'] = np.log1p(df['Volume'])  # log1p handles zero values\n",
        "\n",
        "print(\"Applied log transformation on Volume:\")\n",
        "print(df[['Volume', 'Log_Volume']].head())\n"
      ],
      "metadata": {
        "colab": {
          "base_uri": "https://localhost:8080/"
        },
        "id": "wrmBHrv-rFzV",
        "outputId": "991e6c13-b5ef-4792-c3c1-04b1d338fc97"
      },
      "execution_count": null,
      "outputs": [
        {
          "output_type": "stream",
          "name": "stdout",
          "text": [
            "Applied log transformation on Volume:\n",
            "   Volume  Log_Volume\n",
            "0   324.0    5.783825\n",
            "1   700.0    6.552508\n",
            "2   277.0    5.627621\n",
            "3   692.0    6.541030\n",
            "4   109.0    4.700480\n"
          ]
        }
      ]
    },
    {
      "cell_type": "markdown",
      "source": [
        "# Normalize and Standardize"
      ],
      "metadata": {
        "id": "wWsV6UEGrPkq"
      }
    },
    {
      "cell_type": "code",
      "source": [
        "from sklearn.preprocessing import MinMaxScaler\n",
        "\n",
        "# Normalization\n",
        "min_max_scaler = MinMaxScaler()\n",
        "df[['Open_Norm', 'High_Norm', 'Low_Norm', 'Close_Norm']] = min_max_scaler.fit_transform(df[['Open', 'High', 'Low', 'Close']])\n",
        "\n",
        "# Standardization\n",
        "df[['Open_Std', 'High_Std', 'Low_Std', 'Close_Std']] = scaler.fit_transform(df[['Open', 'High', 'Low', 'Close']])\n",
        "\n",
        "print(\"Applied normalization and standardization:\")\n",
        "print(df[['Open_Norm', 'High_Norm', 'Low_Norm', 'Close_Norm', 'Open_Std', 'High_Std']].head())\n"
      ],
      "metadata": {
        "colab": {
          "base_uri": "https://localhost:8080/"
        },
        "id": "xjjdBnTurSDu",
        "outputId": "bab14fce-9621-4722-8ff8-2de1759ee70b"
      },
      "execution_count": null,
      "outputs": [
        {
          "output_type": "stream",
          "name": "stdout",
          "text": [
            "Applied normalization and standardization:\n",
            "   Open_Norm  High_Norm  Low_Norm  Close_Norm  Open_Std  High_Std\n",
            "0   0.690326   0.684863  0.717094    0.705019   1.85096   1.83017\n",
            "1   0.690326   0.684863  0.717094    0.705019   1.85096   1.83017\n",
            "2   0.690326   0.684863  0.717094    0.705019   1.85096   1.83017\n",
            "3   0.690326   0.684863  0.717094    0.705019   1.85096   1.83017\n",
            "4   0.690326   0.684863  0.717094    0.705019   1.85096   1.83017\n"
          ]
        }
      ]
    },
    {
      "cell_type": "markdown",
      "source": [
        "# Binning"
      ],
      "metadata": {
        "id": "AVDoNzG2rVZZ"
      }
    },
    {
      "cell_type": "code",
      "source": [
        "# Equal Width Binning\n",
        "df['Daily_Range_Bin'] = pd.cut(df['Daily_Range'], bins=5, labels=False)\n",
        "\n",
        "# Equal Frequency Binning\n",
        "df['Volume_Bin'] = pd.qcut(df['Volume'], q=4, labels=False)\n",
        "\n",
        "print(\"Applied binning:\")\n",
        "print(df[['Daily_Range_Bin', 'Volume_Bin']].head())\n"
      ],
      "metadata": {
        "colab": {
          "base_uri": "https://localhost:8080/"
        },
        "id": "4YWIpmqPrWIM",
        "outputId": "124d2ebe-451a-467c-c210-f8038a64b0e6"
      },
      "execution_count": null,
      "outputs": [
        {
          "output_type": "stream",
          "name": "stdout",
          "text": [
            "Applied binning:\n",
            "   Daily_Range_Bin  Volume_Bin\n",
            "0                0           0\n",
            "1                0           0\n",
            "2                0           0\n",
            "3                0           0\n",
            "4                0           0\n"
          ]
        }
      ]
    },
    {
      "cell_type": "markdown",
      "source": [
        "# Encoding"
      ],
      "metadata": {
        "id": "cBlECg0NrdUZ"
      }
    },
    {
      "cell_type": "code",
      "source": [
        "from sklearn.preprocessing import OneHotEncoder\n",
        "\n",
        "# One-Hot Encoding\n",
        "encoder = OneHotEncoder(sparse_output=False)  # Replace 'sparse' with 'sparse_output'\n",
        "month_encoded = encoder.fit_transform(df[['Month']])\n",
        "month_encoded_df = pd.DataFrame(month_encoded, columns=encoder.get_feature_names_out(['Month']))\n",
        "df = pd.concat([df, month_encoded_df], axis=1)\n",
        "\n",
        "print(\"One-hot encoding completed.\")\n",
        "print(df.head())\n"
      ],
      "metadata": {
        "colab": {
          "base_uri": "https://localhost:8080/"
        },
        "id": "Q1mozlqfrgKK",
        "outputId": "6afcd446-e453-459f-9d7b-769a04520cc4"
      },
      "execution_count": null,
      "outputs": [
        {
          "output_type": "stream",
          "name": "stdout",
          "text": [
            "One-hot encoding completed.\n",
            "        Date   Open   High    Low  Close  Volume  High_Low_Interaction  \\\n",
            "0 2023-03-30  518.7  518.7  518.7  518.7   324.0             269049.69   \n",
            "1 2023-03-29  518.7  518.7  518.7  518.7   700.0             269049.69   \n",
            "2 2023-03-28  518.7  518.7  518.7  518.7   277.0             269049.69   \n",
            "3 2023-03-27  518.7  518.7  518.7  518.7   692.0             269049.69   \n",
            "4 2023-03-23  518.7  518.7  518.7  518.7   109.0             269049.69   \n",
            "\n",
            "   Open_Close_Interaction  Daily_Range  Volatility  ...  Month_3  Month_4  \\\n",
            "0               269049.69          0.0         0.0  ...      1.0      0.0   \n",
            "1               269049.69          0.0         0.0  ...      1.0      0.0   \n",
            "2               269049.69          0.0         0.0  ...      1.0      0.0   \n",
            "3               269049.69          0.0         0.0  ...      1.0      0.0   \n",
            "4               269049.69          0.0         0.0  ...      1.0      0.0   \n",
            "\n",
            "   Month_5  Month_6  Month_7  Month_8  Month_9  Month_10  Month_11  Month_12  \n",
            "0      0.0      0.0      0.0      0.0      0.0       0.0       0.0       0.0  \n",
            "1      0.0      0.0      0.0      0.0      0.0       0.0       0.0       0.0  \n",
            "2      0.0      0.0      0.0      0.0      0.0       0.0       0.0       0.0  \n",
            "3      0.0      0.0      0.0      0.0      0.0       0.0       0.0       0.0  \n",
            "4      0.0      0.0      0.0      0.0      0.0       0.0       0.0       0.0  \n",
            "\n",
            "[5 rows x 38 columns]\n"
          ]
        }
      ]
    },
    {
      "cell_type": "markdown",
      "source": [
        "# Imputation"
      ],
      "metadata": {
        "id": "nbA2mKmtrvd0"
      }
    },
    {
      "cell_type": "code",
      "source": [
        "from sklearn.impute import KNNImputer\n",
        "\n",
        "# Mean Imputation\n",
        "df['Volume_Imputed_Mean'] = df['Volume'].fillna(df['Volume'].mean())\n",
        "\n",
        "# KNN Imputation\n",
        "imputer = KNNImputer(n_neighbors=5)\n",
        "imputed_data = imputer.fit_transform(df[['Open', 'High', 'Low', 'Close', 'Volume']])\n",
        "df[['Open_Imputed', 'High_Imputed', 'Low_Imputed', 'Close_Imputed', 'Volume_Imputed_KNN']] = imputed_data\n",
        "\n",
        "print(\"Applied imputation:\")\n",
        "print(df[['Volume_Imputed_Mean', 'Volume_Imputed_KNN']].head())\n"
      ],
      "metadata": {
        "colab": {
          "base_uri": "https://localhost:8080/"
        },
        "id": "VhkVdurJrvvb",
        "outputId": "6422f4f1-ad2a-4998-c114-d22e4291559c"
      },
      "execution_count": null,
      "outputs": [
        {
          "output_type": "stream",
          "name": "stdout",
          "text": [
            "Applied imputation:\n",
            "   Volume_Imputed_Mean  Volume_Imputed_KNN\n",
            "0                324.0               324.0\n",
            "1                700.0               700.0\n",
            "2                277.0               277.0\n",
            "3                692.0               692.0\n",
            "4                109.0               109.0\n"
          ]
        }
      ]
    },
    {
      "cell_type": "markdown",
      "source": [
        "# Save File\n"
      ],
      "metadata": {
        "id": "PxWAJ9pfr7KV"
      }
    },
    {
      "cell_type": "code",
      "source": [
        "# Save the final dataset\n",
        "df.to_csv('BATB_feature_engineered.csv', index=False)\n",
        "print(\"Feature engineering completed and saved to 'BATB_feature_engineered.csv'.\")\n",
        "\n"
      ],
      "metadata": {
        "colab": {
          "base_uri": "https://localhost:8080/"
        },
        "id": "YGlqYISrr6jv",
        "outputId": "f88bcb0d-a486-4e70-f3ae-8caf5fdf663d"
      },
      "execution_count": null,
      "outputs": [
        {
          "output_type": "stream",
          "name": "stdout",
          "text": [
            "Feature engineering completed and saved to 'BATB_feature_engineered.csv'.\n"
          ]
        }
      ]
    },
    {
      "cell_type": "markdown",
      "source": [
        "# Filter Methods"
      ],
      "metadata": {
        "id": "d9VWitP4tIYL"
      }
    },
    {
      "cell_type": "markdown",
      "source": [
        "**1.1 Correlation Analysis**"
      ],
      "metadata": {
        "id": "4wpBJCBytgph"
      }
    },
    {
      "cell_type": "code",
      "source": [
        "# Compute correlation matrix\n",
        "correlation_matrix = df.corr()\n",
        "\n",
        "# Display highly correlated features (absolute correlation > 0.8)\n",
        "high_correlation = correlation_matrix[correlation_matrix.abs() > 0.8]\n",
        "print(\"Highly correlated features:\\n\", high_correlation)\n"
      ],
      "metadata": {
        "colab": {
          "base_uri": "https://localhost:8080/"
        },
        "id": "ofObnUZStOml",
        "outputId": "755caeed-c0cc-42dd-cd30-a0c1c6b7ea0f"
      },
      "execution_count": null,
      "outputs": [
        {
          "output_type": "stream",
          "name": "stdout",
          "text": [
            "Highly correlated features:\n",
            "                             Date      Open      High       Low     Close  \\\n",
            "Date                    1.000000  0.891622  0.891854  0.891847  0.892019   \n",
            "Open                    0.891622  1.000000  0.999874  0.999869  0.999813   \n",
            "High                    0.891854  0.999874  1.000000  0.999772  0.999884   \n",
            "Low                     0.891847  0.999869  0.999772  1.000000  0.999899   \n",
            "Close                   0.892019  0.999813  0.999884  0.999899  1.000000   \n",
            "Volume                       NaN       NaN       NaN       NaN       NaN   \n",
            "High_Low_Interaction         NaN  0.953480  0.953177  0.953178  0.952892   \n",
            "Open_Close_Interaction       NaN  0.953451  0.953081  0.953087  0.952832   \n",
            "Daily_Range                  NaN       NaN       NaN       NaN       NaN   \n",
            "Volatility                   NaN       NaN       NaN       NaN       NaN   \n",
            "Close_to_Open_Ratio          NaN       NaN       NaN       NaN       NaN   \n",
            "PCA1                    0.891885  0.999944  0.999938  0.999940  0.999954   \n",
            "PCA2                         NaN       NaN       NaN       NaN       NaN   \n",
            "Log_Volume                   NaN       NaN       NaN       NaN       NaN   \n",
            "Open_Norm               0.891622  1.000000  0.999874  0.999869  0.999813   \n",
            "High_Norm               0.891854  0.999874  1.000000  0.999772  0.999884   \n",
            "Low_Norm                0.891847  0.999869  0.999772  1.000000  0.999899   \n",
            "Close_Norm              0.892019  0.999813  0.999884  0.999899  1.000000   \n",
            "Open_Std                0.891622  1.000000  0.999874  0.999869  0.999813   \n",
            "High_Std                0.891854  0.999874  1.000000  0.999772  0.999884   \n",
            "Low_Std                 0.891847  0.999869  0.999772  1.000000  0.999899   \n",
            "Close_Std               0.892019  0.999813  0.999884  0.999899  1.000000   \n",
            "Daily_Range_Bin              NaN       NaN       NaN       NaN       NaN   \n",
            "Volume_Bin                   NaN       NaN       NaN       NaN       NaN   \n",
            "Year                    0.999200  0.891109  0.891355  0.891291  0.891484   \n",
            "Month                        NaN       NaN       NaN       NaN       NaN   \n",
            "Month_1                      NaN       NaN       NaN       NaN       NaN   \n",
            "Month_2                      NaN       NaN       NaN       NaN       NaN   \n",
            "Month_3                      NaN       NaN       NaN       NaN       NaN   \n",
            "Month_4                      NaN       NaN       NaN       NaN       NaN   \n",
            "Month_5                      NaN       NaN       NaN       NaN       NaN   \n",
            "Month_6                      NaN       NaN       NaN       NaN       NaN   \n",
            "Month_7                      NaN       NaN       NaN       NaN       NaN   \n",
            "Month_8                      NaN       NaN       NaN       NaN       NaN   \n",
            "Month_9                      NaN       NaN       NaN       NaN       NaN   \n",
            "Month_10                     NaN       NaN       NaN       NaN       NaN   \n",
            "Month_11                     NaN       NaN       NaN       NaN       NaN   \n",
            "Month_12                     NaN       NaN       NaN       NaN       NaN   \n",
            "Volume_Imputed_Mean          NaN       NaN       NaN       NaN       NaN   \n",
            "Open_Imputed            0.891622  1.000000  0.999874  0.999869  0.999813   \n",
            "High_Imputed            0.891854  0.999874  1.000000  0.999772  0.999884   \n",
            "Low_Imputed             0.891847  0.999869  0.999772  1.000000  0.999899   \n",
            "Close_Imputed           0.892019  0.999813  0.999884  0.999899  1.000000   \n",
            "Volume_Imputed_KNN           NaN       NaN       NaN       NaN       NaN   \n",
            "\n",
            "                        Volume  High_Low_Interaction  Open_Close_Interaction  \\\n",
            "Date                       NaN                   NaN                     NaN   \n",
            "Open                       NaN              0.953480                0.953451   \n",
            "High                       NaN              0.953177                0.953081   \n",
            "Low                        NaN              0.953178                0.953087   \n",
            "Close                      NaN              0.952892                0.952832   \n",
            "Volume                     1.0                   NaN                     NaN   \n",
            "High_Low_Interaction       NaN              1.000000                0.999955   \n",
            "Open_Close_Interaction     NaN              0.999955                1.000000   \n",
            "Daily_Range                NaN                   NaN                     NaN   \n",
            "Volatility                 NaN                   NaN                     NaN   \n",
            "Close_to_Open_Ratio        NaN                   NaN                     NaN   \n",
            "PCA1                       NaN              0.953235                0.953166   \n",
            "PCA2                       NaN                   NaN                     NaN   \n",
            "Log_Volume                 NaN                   NaN                     NaN   \n",
            "Open_Norm                  NaN              0.953480                0.953451   \n",
            "High_Norm                  NaN              0.953177                0.953081   \n",
            "Low_Norm                   NaN              0.953178                0.953087   \n",
            "Close_Norm                 NaN              0.952892                0.952832   \n",
            "Open_Std                   NaN              0.953480                0.953451   \n",
            "High_Std                   NaN              0.953177                0.953081   \n",
            "Low_Std                    NaN              0.953178                0.953087   \n",
            "Close_Std                  NaN              0.952892                0.952832   \n",
            "Daily_Range_Bin            NaN                   NaN                     NaN   \n",
            "Volume_Bin                 NaN                   NaN                     NaN   \n",
            "Year                       NaN                   NaN                     NaN   \n",
            "Month                      NaN                   NaN                     NaN   \n",
            "Month_1                    NaN                   NaN                     NaN   \n",
            "Month_2                    NaN                   NaN                     NaN   \n",
            "Month_3                    NaN                   NaN                     NaN   \n",
            "Month_4                    NaN                   NaN                     NaN   \n",
            "Month_5                    NaN                   NaN                     NaN   \n",
            "Month_6                    NaN                   NaN                     NaN   \n",
            "Month_7                    NaN                   NaN                     NaN   \n",
            "Month_8                    NaN                   NaN                     NaN   \n",
            "Month_9                    NaN                   NaN                     NaN   \n",
            "Month_10                   NaN                   NaN                     NaN   \n",
            "Month_11                   NaN                   NaN                     NaN   \n",
            "Month_12                   NaN                   NaN                     NaN   \n",
            "Volume_Imputed_Mean        1.0                   NaN                     NaN   \n",
            "Open_Imputed               NaN              0.953480                0.953451   \n",
            "High_Imputed               NaN              0.953177                0.953081   \n",
            "Low_Imputed                NaN              0.953178                0.953087   \n",
            "Close_Imputed              NaN              0.952892                0.952832   \n",
            "Volume_Imputed_KNN         1.0                   NaN                     NaN   \n",
            "\n",
            "                        Daily_Range  Volatility  ...  Month_9  Month_10  \\\n",
            "Date                            NaN         NaN  ...      NaN       NaN   \n",
            "Open                            NaN         NaN  ...      NaN       NaN   \n",
            "High                            NaN         NaN  ...      NaN       NaN   \n",
            "Low                             NaN         NaN  ...      NaN       NaN   \n",
            "Close                           NaN         NaN  ...      NaN       NaN   \n",
            "Volume                          NaN         NaN  ...      NaN       NaN   \n",
            "High_Low_Interaction            NaN         NaN  ...      NaN       NaN   \n",
            "Open_Close_Interaction          NaN         NaN  ...      NaN       NaN   \n",
            "Daily_Range                     1.0         NaN  ...      NaN       NaN   \n",
            "Volatility                      NaN         1.0  ...      NaN       NaN   \n",
            "Close_to_Open_Ratio             NaN         NaN  ...      NaN       NaN   \n",
            "PCA1                            NaN         NaN  ...      NaN       NaN   \n",
            "PCA2                            NaN         NaN  ...      NaN       NaN   \n",
            "Log_Volume                      NaN         NaN  ...      NaN       NaN   \n",
            "Open_Norm                       NaN         NaN  ...      NaN       NaN   \n",
            "High_Norm                       NaN         NaN  ...      NaN       NaN   \n",
            "Low_Norm                        NaN         NaN  ...      NaN       NaN   \n",
            "Close_Norm                      NaN         NaN  ...      NaN       NaN   \n",
            "Open_Std                        NaN         NaN  ...      NaN       NaN   \n",
            "High_Std                        NaN         NaN  ...      NaN       NaN   \n",
            "Low_Std                         NaN         NaN  ...      NaN       NaN   \n",
            "Close_Std                       NaN         NaN  ...      NaN       NaN   \n",
            "Daily_Range_Bin                 NaN         NaN  ...      NaN       NaN   \n",
            "Volume_Bin                      NaN         NaN  ...      NaN       NaN   \n",
            "Year                            NaN         NaN  ...      NaN       NaN   \n",
            "Month                           NaN         NaN  ...      NaN       NaN   \n",
            "Month_1                         NaN         NaN  ...      NaN       NaN   \n",
            "Month_2                         NaN         NaN  ...      NaN       NaN   \n",
            "Month_3                         NaN         NaN  ...      NaN       NaN   \n",
            "Month_4                         NaN         NaN  ...      NaN       NaN   \n",
            "Month_5                         NaN         NaN  ...      NaN       NaN   \n",
            "Month_6                         NaN         NaN  ...      NaN       NaN   \n",
            "Month_7                         NaN         NaN  ...      NaN       NaN   \n",
            "Month_8                         NaN         NaN  ...      NaN       NaN   \n",
            "Month_9                         NaN         NaN  ...      1.0       NaN   \n",
            "Month_10                        NaN         NaN  ...      NaN       1.0   \n",
            "Month_11                        NaN         NaN  ...      NaN       NaN   \n",
            "Month_12                        NaN         NaN  ...      NaN       NaN   \n",
            "Volume_Imputed_Mean             NaN         NaN  ...      NaN       NaN   \n",
            "Open_Imputed                    NaN         NaN  ...      NaN       NaN   \n",
            "High_Imputed                    NaN         NaN  ...      NaN       NaN   \n",
            "Low_Imputed                     NaN         NaN  ...      NaN       NaN   \n",
            "Close_Imputed                   NaN         NaN  ...      NaN       NaN   \n",
            "Volume_Imputed_KNN              NaN         NaN  ...      NaN       NaN   \n",
            "\n",
            "                        Month_11  Month_12  Volume_Imputed_Mean  Open_Imputed  \\\n",
            "Date                         NaN       NaN                  NaN      0.891622   \n",
            "Open                         NaN       NaN                  NaN      1.000000   \n",
            "High                         NaN       NaN                  NaN      0.999874   \n",
            "Low                          NaN       NaN                  NaN      0.999869   \n",
            "Close                        NaN       NaN                  NaN      0.999813   \n",
            "Volume                       NaN       NaN                  1.0           NaN   \n",
            "High_Low_Interaction         NaN       NaN                  NaN      0.953480   \n",
            "Open_Close_Interaction       NaN       NaN                  NaN      0.953451   \n",
            "Daily_Range                  NaN       NaN                  NaN           NaN   \n",
            "Volatility                   NaN       NaN                  NaN           NaN   \n",
            "Close_to_Open_Ratio          NaN       NaN                  NaN           NaN   \n",
            "PCA1                         NaN       NaN                  NaN      0.999944   \n",
            "PCA2                         NaN       NaN                  NaN           NaN   \n",
            "Log_Volume                   NaN       NaN                  NaN           NaN   \n",
            "Open_Norm                    NaN       NaN                  NaN      1.000000   \n",
            "High_Norm                    NaN       NaN                  NaN      0.999874   \n",
            "Low_Norm                     NaN       NaN                  NaN      0.999869   \n",
            "Close_Norm                   NaN       NaN                  NaN      0.999813   \n",
            "Open_Std                     NaN       NaN                  NaN      1.000000   \n",
            "High_Std                     NaN       NaN                  NaN      0.999874   \n",
            "Low_Std                      NaN       NaN                  NaN      0.999869   \n",
            "Close_Std                    NaN       NaN                  NaN      0.999813   \n",
            "Daily_Range_Bin              NaN       NaN                  NaN           NaN   \n",
            "Volume_Bin                   NaN       NaN                  NaN           NaN   \n",
            "Year                         NaN       NaN                  NaN      0.891109   \n",
            "Month                        NaN       NaN                  NaN           NaN   \n",
            "Month_1                      NaN       NaN                  NaN           NaN   \n",
            "Month_2                      NaN       NaN                  NaN           NaN   \n",
            "Month_3                      NaN       NaN                  NaN           NaN   \n",
            "Month_4                      NaN       NaN                  NaN           NaN   \n",
            "Month_5                      NaN       NaN                  NaN           NaN   \n",
            "Month_6                      NaN       NaN                  NaN           NaN   \n",
            "Month_7                      NaN       NaN                  NaN           NaN   \n",
            "Month_8                      NaN       NaN                  NaN           NaN   \n",
            "Month_9                      NaN       NaN                  NaN           NaN   \n",
            "Month_10                     NaN       NaN                  NaN           NaN   \n",
            "Month_11                     1.0       NaN                  NaN           NaN   \n",
            "Month_12                     NaN       1.0                  NaN           NaN   \n",
            "Volume_Imputed_Mean          NaN       NaN                  1.0           NaN   \n",
            "Open_Imputed                 NaN       NaN                  NaN      1.000000   \n",
            "High_Imputed                 NaN       NaN                  NaN      0.999874   \n",
            "Low_Imputed                  NaN       NaN                  NaN      0.999869   \n",
            "Close_Imputed                NaN       NaN                  NaN      0.999813   \n",
            "Volume_Imputed_KNN           NaN       NaN                  1.0           NaN   \n",
            "\n",
            "                        High_Imputed  Low_Imputed  Close_Imputed  \\\n",
            "Date                        0.891854     0.891847       0.892019   \n",
            "Open                        0.999874     0.999869       0.999813   \n",
            "High                        1.000000     0.999772       0.999884   \n",
            "Low                         0.999772     1.000000       0.999899   \n",
            "Close                       0.999884     0.999899       1.000000   \n",
            "Volume                           NaN          NaN            NaN   \n",
            "High_Low_Interaction        0.953177     0.953178       0.952892   \n",
            "Open_Close_Interaction      0.953081     0.953087       0.952832   \n",
            "Daily_Range                      NaN          NaN            NaN   \n",
            "Volatility                       NaN          NaN            NaN   \n",
            "Close_to_Open_Ratio              NaN          NaN            NaN   \n",
            "PCA1                        0.999938     0.999940       0.999954   \n",
            "PCA2                             NaN          NaN            NaN   \n",
            "Log_Volume                       NaN          NaN            NaN   \n",
            "Open_Norm                   0.999874     0.999869       0.999813   \n",
            "High_Norm                   1.000000     0.999772       0.999884   \n",
            "Low_Norm                    0.999772     1.000000       0.999899   \n",
            "Close_Norm                  0.999884     0.999899       1.000000   \n",
            "Open_Std                    0.999874     0.999869       0.999813   \n",
            "High_Std                    1.000000     0.999772       0.999884   \n",
            "Low_Std                     0.999772     1.000000       0.999899   \n",
            "Close_Std                   0.999884     0.999899       1.000000   \n",
            "Daily_Range_Bin                  NaN          NaN            NaN   \n",
            "Volume_Bin                       NaN          NaN            NaN   \n",
            "Year                        0.891355     0.891291       0.891484   \n",
            "Month                            NaN          NaN            NaN   \n",
            "Month_1                          NaN          NaN            NaN   \n",
            "Month_2                          NaN          NaN            NaN   \n",
            "Month_3                          NaN          NaN            NaN   \n",
            "Month_4                          NaN          NaN            NaN   \n",
            "Month_5                          NaN          NaN            NaN   \n",
            "Month_6                          NaN          NaN            NaN   \n",
            "Month_7                          NaN          NaN            NaN   \n",
            "Month_8                          NaN          NaN            NaN   \n",
            "Month_9                          NaN          NaN            NaN   \n",
            "Month_10                         NaN          NaN            NaN   \n",
            "Month_11                         NaN          NaN            NaN   \n",
            "Month_12                         NaN          NaN            NaN   \n",
            "Volume_Imputed_Mean              NaN          NaN            NaN   \n",
            "Open_Imputed                0.999874     0.999869       0.999813   \n",
            "High_Imputed                1.000000     0.999772       0.999884   \n",
            "Low_Imputed                 0.999772     1.000000       0.999899   \n",
            "Close_Imputed               0.999884     0.999899       1.000000   \n",
            "Volume_Imputed_KNN               NaN          NaN            NaN   \n",
            "\n",
            "                        Volume_Imputed_KNN  \n",
            "Date                                   NaN  \n",
            "Open                                   NaN  \n",
            "High                                   NaN  \n",
            "Low                                    NaN  \n",
            "Close                                  NaN  \n",
            "Volume                                 1.0  \n",
            "High_Low_Interaction                   NaN  \n",
            "Open_Close_Interaction                 NaN  \n",
            "Daily_Range                            NaN  \n",
            "Volatility                             NaN  \n",
            "Close_to_Open_Ratio                    NaN  \n",
            "PCA1                                   NaN  \n",
            "PCA2                                   NaN  \n",
            "Log_Volume                             NaN  \n",
            "Open_Norm                              NaN  \n",
            "High_Norm                              NaN  \n",
            "Low_Norm                               NaN  \n",
            "Close_Norm                             NaN  \n",
            "Open_Std                               NaN  \n",
            "High_Std                               NaN  \n",
            "Low_Std                                NaN  \n",
            "Close_Std                              NaN  \n",
            "Daily_Range_Bin                        NaN  \n",
            "Volume_Bin                             NaN  \n",
            "Year                                   NaN  \n",
            "Month                                  NaN  \n",
            "Month_1                                NaN  \n",
            "Month_2                                NaN  \n",
            "Month_3                                NaN  \n",
            "Month_4                                NaN  \n",
            "Month_5                                NaN  \n",
            "Month_6                                NaN  \n",
            "Month_7                                NaN  \n",
            "Month_8                                NaN  \n",
            "Month_9                                NaN  \n",
            "Month_10                               NaN  \n",
            "Month_11                               NaN  \n",
            "Month_12                               NaN  \n",
            "Volume_Imputed_Mean                    1.0  \n",
            "Open_Imputed                           NaN  \n",
            "High_Imputed                           NaN  \n",
            "Low_Imputed                            NaN  \n",
            "Close_Imputed                          NaN  \n",
            "Volume_Imputed_KNN                     1.0  \n",
            "\n",
            "[44 rows x 44 columns]\n"
          ]
        }
      ]
    },
    {
      "cell_type": "markdown",
      "source": [
        "**1.2 Mutual Information**"
      ],
      "metadata": {
        "id": "10sKP8-RtSrn"
      }
    },
    {
      "cell_type": "code",
      "source": [
        "import pandas as pd\n",
        "from sklearn.feature_selection import mutual_info_regression\n",
        "# Load dataset\n",
        "df = pd.read_csv('/content/BATB_feature_engineered.csv')\n",
        "\n",
        "# Define features (X) and target (y)\n",
        "X = df.drop(['Close', 'Date'], axis=1)  # Drop target and non-numeric columns\n",
        "y = df['Close']\n",
        "\n",
        "# Compute mutual information\n",
        "mutual_info = mutual_info_regression(X, y)\n",
        "\n",
        "# Create a DataFrame for results\n",
        "mutual_info_df = pd.DataFrame({\n",
        "    'Feature': X.columns,\n",
        "    'Mutual_Information': mutual_info\n",
        "}).sort_values(by='Mutual_Information', ascending=False)\n",
        "\n",
        "print(\"Top Features by Mutual Information:\\n\", mutual_info_df.head(10))\n",
        "\n",
        "# Select top features\n",
        "selected_features_mi = mutual_info_df['Feature'].head(10).tolist()\n",
        "X_mi = X[selected_features_mi]\n"
      ],
      "metadata": {
        "colab": {
          "base_uri": "https://localhost:8080/"
        },
        "id": "TJtl6BZnzFF8",
        "outputId": "28456f24-48e8-442c-95c3-76b1ba9636de"
      },
      "execution_count": null,
      "outputs": [
        {
          "output_type": "stream",
          "name": "stdout",
          "text": [
            "Top Features by Mutual Information:\n",
            "                Feature  Mutual_Information\n",
            "8        Close_Imputed            6.882125\n",
            "2                  Low            5.052659\n",
            "7          Low_Imputed            5.051396\n",
            "6         High_Imputed            4.943950\n",
            "1                 High            4.942723\n",
            "5         Open_Imputed            4.619163\n",
            "0                 Open            4.618248\n",
            "3               Volume            0.528728\n",
            "4  Volume_Imputed_Mean            0.528252\n",
            "9   Volume_Imputed_KNN            0.527463\n"
          ]
        }
      ]
    },
    {
      "cell_type": "markdown",
      "source": [
        "**2. Wrapper Methods**"
      ],
      "metadata": {
        "id": "ZCe9CUYI1RB5"
      }
    },
    {
      "cell_type": "markdown",
      "source": [
        "**2.1 Recursive Feature Elimination (RFE)**"
      ],
      "metadata": {
        "id": "hoo8yYHo00Va"
      }
    },
    {
      "cell_type": "code",
      "source": [
        "from sklearn.feature_selection import RFE\n",
        "from sklearn.linear_model import LinearRegression\n",
        "\n",
        "# Initialize the model\n",
        "model = LinearRegression()\n",
        "\n",
        "# Ensure X contains only numeric columns\n",
        "X_numeric = X.select_dtypes(include=['float64', 'int64'])\n",
        "\n",
        "# Apply RFE\n",
        "rfe = RFE(estimator=model, n_features_to_select=10)\n",
        "rfe.fit(X_numeric, y)\n",
        "\n",
        "# Get selected features\n",
        "rfe_selected_features = X_numeric.columns[rfe.support_]\n",
        "print(\"Selected features by RFE:\\n\", rfe_selected_features)\n",
        "\n",
        "# Subset DataFrame with selected features\n",
        "X_rfe = X_numeric[rfe_selected_features]\n",
        "\n"
      ],
      "metadata": {
        "colab": {
          "base_uri": "https://localhost:8080/"
        },
        "id": "xPAdBzZ6tS8V",
        "outputId": "989e1222-732f-431c-fb01-33ba538b3268"
      },
      "execution_count": null,
      "outputs": [
        {
          "output_type": "stream",
          "name": "stdout",
          "text": [
            "Selected features by RFE:\n",
            " Index(['Open', 'High', 'Low', 'Volume', 'Volume_Imputed_Mean', 'Open_Imputed',\n",
            "       'High_Imputed', 'Low_Imputed', 'Close_Imputed', 'Volume_Imputed_KNN'],\n",
            "      dtype='object')\n"
          ]
        }
      ]
    },
    {
      "cell_type": "markdown",
      "source": [
        "#  Save Selected Features"
      ],
      "metadata": {
        "id": "tv1docgPza4R"
      }
    },
    {
      "cell_type": "code",
      "source": [
        "from google.colab import files\n",
        "\n",
        "# Combine selected features with the target variable\n",
        "selected_features_df = pd.concat([X_rfe, y], axis=1)\n",
        "\n",
        "# Save to a CSV file\n",
        "file_name = 'selected_features.csv'\n",
        "selected_features_df.to_csv(file_name, index=False)\n",
        "print(f\"Selected features saved to '{file_name}'.\")\n",
        "\n",
        "# Download the file\n",
        "files.download(file_name)\n"
      ],
      "metadata": {
        "colab": {
          "base_uri": "https://localhost:8080/",
          "height": 35
        },
        "id": "mdWLeeF_zbA4",
        "outputId": "5c862de8-205d-4976-9900-8ef514407822"
      },
      "execution_count": null,
      "outputs": [
        {
          "output_type": "stream",
          "name": "stdout",
          "text": [
            "Selected features saved to 'selected_features.csv'.\n"
          ]
        },
        {
          "output_type": "display_data",
          "data": {
            "text/plain": [
              "<IPython.core.display.Javascript object>"
            ],
            "application/javascript": [
              "\n",
              "    async function download(id, filename, size) {\n",
              "      if (!google.colab.kernel.accessAllowed) {\n",
              "        return;\n",
              "      }\n",
              "      const div = document.createElement('div');\n",
              "      const label = document.createElement('label');\n",
              "      label.textContent = `Downloading \"${filename}\": `;\n",
              "      div.appendChild(label);\n",
              "      const progress = document.createElement('progress');\n",
              "      progress.max = size;\n",
              "      div.appendChild(progress);\n",
              "      document.body.appendChild(div);\n",
              "\n",
              "      const buffers = [];\n",
              "      let downloaded = 0;\n",
              "\n",
              "      const channel = await google.colab.kernel.comms.open(id);\n",
              "      // Send a message to notify the kernel that we're ready.\n",
              "      channel.send({})\n",
              "\n",
              "      for await (const message of channel.messages) {\n",
              "        // Send a message to notify the kernel that we're ready.\n",
              "        channel.send({})\n",
              "        if (message.buffers) {\n",
              "          for (const buffer of message.buffers) {\n",
              "            buffers.push(buffer);\n",
              "            downloaded += buffer.byteLength;\n",
              "            progress.value = downloaded;\n",
              "          }\n",
              "        }\n",
              "      }\n",
              "      const blob = new Blob(buffers, {type: 'application/binary'});\n",
              "      const a = document.createElement('a');\n",
              "      a.href = window.URL.createObjectURL(blob);\n",
              "      a.download = filename;\n",
              "      div.appendChild(a);\n",
              "      a.click();\n",
              "      div.remove();\n",
              "    }\n",
              "  "
            ]
          },
          "metadata": {}
        },
        {
          "output_type": "display_data",
          "data": {
            "text/plain": [
              "<IPython.core.display.Javascript object>"
            ],
            "application/javascript": [
              "download(\"download_bfdbe18c-170a-4e0e-a74b-d8a744e24666\", \"selected_features.csv\", 440360)"
            ]
          },
          "metadata": {}
        }
      ]
    }
  ]
}